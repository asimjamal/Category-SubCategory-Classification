{
 "cells": [
  {
   "cell_type": "code",
   "execution_count": 1,
   "metadata": {},
   "outputs": [],
   "source": [
    "import boto3\n",
    "import pandas as pd\n",
    "from pyathena import connect\n",
    "import uuid\n",
    "from datetime import datetime, date,timedelta\n",
    "import requests\n",
    "import psycopg2\n",
    "import re\n",
    "import json\n",
    "import numpy as np\n",
    "import nltk\n",
    "from urlextract import URLExtract\n",
    "from nltk.stem import WordNetLemmatizer \n",
    "from collections import Counter"
   ]
  },
  {
   "cell_type": "code",
   "execution_count": 2,
   "metadata": {},
   "outputs": [],
   "source": [
    "import numpy as np\n",
    "import pandas as pd\n",
    "import matplotlib.pyplot as plt  \n",
    "import seaborn as sns   \n",
    "import nltk\n",
    "import re\n",
    "import csv\n",
    "from nltk.corpus import stopwords\n",
    "from nltk.stem.porter import PorterStemmer\n",
    "ps=PorterStemmer()\n",
    "from wordcloud import WordCloud\n",
    "from sklearn import model_selection\n",
    "from sklearn.preprocessing import LabelEncoder\n",
    "from sklearn.feature_extraction.text import CountVectorizer\n",
    "from sklearn.model_selection import train_test_split\n",
    "from sklearn.metrics import confusion_matrix\n",
    "from sklearn.metrics import classification_report\n",
    "from sklearn.feature_extraction.text import TfidfTransformer\n",
    "from sklearn.feature_extraction.text import TfidfVectorizer\n",
    "from sklearn.ensemble import RandomForestClassifier\n",
    "from sklearn.model_selection import GridSearchCV"
   ]
  },
  {
   "cell_type": "code",
   "execution_count": 3,
   "metadata": {},
   "outputs": [
    {
     "data": {
      "text/plain": [
       "'C:\\\\Users\\\\Asim\\\\Desktop\\\\Baby Destination Data\\\\final_model\\\\sub_category\\\\python_script'"
      ]
     },
     "execution_count": 3,
     "metadata": {},
     "output_type": "execute_result"
    }
   ],
   "source": [
    "pwd"
   ]
  },
  {
   "cell_type": "markdown",
   "metadata": {},
   "source": [
    "#### Importing the data files for lifestage training"
   ]
  },
  {
   "cell_type": "code",
   "execution_count": 6,
   "metadata": {},
   "outputs": [],
   "source": [
    "training_path = \"C:\\\\Users\\\\Asim\\\\Desktop\\\\Baby Destination Data\\\\final_model\\\\sub_category\\\\training_data\\\\\""
   ]
  },
  {
   "cell_type": "code",
   "execution_count": 7,
   "metadata": {},
   "outputs": [],
   "source": [
    "merged_file = pd.read_csv(training_path+\"final_sub_category_traininig_data.csv\")"
   ]
  },
  {
   "cell_type": "code",
   "execution_count": 8,
   "metadata": {},
   "outputs": [
    {
     "data": {
      "text/plain": [
       "(24848, 2)"
      ]
     },
     "execution_count": 8,
     "metadata": {},
     "output_type": "execute_result"
    }
   ],
   "source": [
    "merged_file.shape"
   ]
  },
  {
   "cell_type": "code",
   "execution_count": 9,
   "metadata": {
    "scrolled": true
   },
   "outputs": [
    {
     "data": {
      "text/html": [
       "<div>\n",
       "<style scoped>\n",
       "    .dataframe tbody tr th:only-of-type {\n",
       "        vertical-align: middle;\n",
       "    }\n",
       "\n",
       "    .dataframe tbody tr th {\n",
       "        vertical-align: top;\n",
       "    }\n",
       "\n",
       "    .dataframe thead th {\n",
       "        text-align: right;\n",
       "    }\n",
       "</style>\n",
       "<table border=\"1\" class=\"dataframe\">\n",
       "  <thead>\n",
       "    <tr style=\"text-align: right;\">\n",
       "      <th></th>\n",
       "      <th>text</th>\n",
       "    </tr>\n",
       "    <tr>\n",
       "      <th>sub_category</th>\n",
       "      <th></th>\n",
       "    </tr>\n",
       "  </thead>\n",
       "  <tbody>\n",
       "    <tr>\n",
       "      <td>Learning</td>\n",
       "      <td>2679</td>\n",
       "    </tr>\n",
       "    <tr>\n",
       "      <td>breastfeeding</td>\n",
       "      <td>2238</td>\n",
       "    </tr>\n",
       "    <tr>\n",
       "      <td>cold_and_cough</td>\n",
       "      <td>2382</td>\n",
       "    </tr>\n",
       "    <tr>\n",
       "      <td>nutrition</td>\n",
       "      <td>2852</td>\n",
       "    </tr>\n",
       "    <tr>\n",
       "      <td>oral_care</td>\n",
       "      <td>2259</td>\n",
       "    </tr>\n",
       "    <tr>\n",
       "      <td>others</td>\n",
       "      <td>2248</td>\n",
       "    </tr>\n",
       "    <tr>\n",
       "      <td>pregnancy</td>\n",
       "      <td>2534</td>\n",
       "    </tr>\n",
       "    <tr>\n",
       "      <td>recipes</td>\n",
       "      <td>2130</td>\n",
       "    </tr>\n",
       "    <tr>\n",
       "      <td>skin_care</td>\n",
       "      <td>2833</td>\n",
       "    </tr>\n",
       "    <tr>\n",
       "      <td>women_health_skin</td>\n",
       "      <td>2693</td>\n",
       "    </tr>\n",
       "  </tbody>\n",
       "</table>\n",
       "</div>"
      ],
      "text/plain": [
       "                   text\n",
       "sub_category           \n",
       "Learning           2679\n",
       "breastfeeding      2238\n",
       "cold_and_cough     2382\n",
       "nutrition          2852\n",
       "oral_care          2259\n",
       "others             2248\n",
       "pregnancy          2534\n",
       "recipes            2130\n",
       "skin_care          2833\n",
       "women_health_skin  2693"
      ]
     },
     "execution_count": 9,
     "metadata": {},
     "output_type": "execute_result"
    }
   ],
   "source": [
    "merged_file.groupby('sub_category').count()"
   ]
  },
  {
   "cell_type": "code",
   "execution_count": 10,
   "metadata": {},
   "outputs": [],
   "source": [
    "#merged_file = merged_file[merged_file['text'].apply(lambda x:len(x)>50)].reset_index(drop=True)\n",
    "merged_file.drop_duplicates(subset='text',inplace=True)"
   ]
  },
  {
   "cell_type": "code",
   "execution_count": 11,
   "metadata": {
    "scrolled": false
   },
   "outputs": [
    {
     "data": {
      "text/html": [
       "<div>\n",
       "<style scoped>\n",
       "    .dataframe tbody tr th:only-of-type {\n",
       "        vertical-align: middle;\n",
       "    }\n",
       "\n",
       "    .dataframe tbody tr th {\n",
       "        vertical-align: top;\n",
       "    }\n",
       "\n",
       "    .dataframe thead th {\n",
       "        text-align: right;\n",
       "    }\n",
       "</style>\n",
       "<table border=\"1\" class=\"dataframe\">\n",
       "  <thead>\n",
       "    <tr style=\"text-align: right;\">\n",
       "      <th></th>\n",
       "      <th>text</th>\n",
       "    </tr>\n",
       "    <tr>\n",
       "      <th>sub_category</th>\n",
       "      <th></th>\n",
       "    </tr>\n",
       "  </thead>\n",
       "  <tbody>\n",
       "    <tr>\n",
       "      <td>Learning</td>\n",
       "      <td>2679</td>\n",
       "    </tr>\n",
       "    <tr>\n",
       "      <td>breastfeeding</td>\n",
       "      <td>2238</td>\n",
       "    </tr>\n",
       "    <tr>\n",
       "      <td>cold_and_cough</td>\n",
       "      <td>2382</td>\n",
       "    </tr>\n",
       "    <tr>\n",
       "      <td>nutrition</td>\n",
       "      <td>2852</td>\n",
       "    </tr>\n",
       "    <tr>\n",
       "      <td>oral_care</td>\n",
       "      <td>2259</td>\n",
       "    </tr>\n",
       "    <tr>\n",
       "      <td>others</td>\n",
       "      <td>2248</td>\n",
       "    </tr>\n",
       "    <tr>\n",
       "      <td>pregnancy</td>\n",
       "      <td>2534</td>\n",
       "    </tr>\n",
       "    <tr>\n",
       "      <td>recipes</td>\n",
       "      <td>2130</td>\n",
       "    </tr>\n",
       "    <tr>\n",
       "      <td>skin_care</td>\n",
       "      <td>2833</td>\n",
       "    </tr>\n",
       "    <tr>\n",
       "      <td>women_health_skin</td>\n",
       "      <td>2693</td>\n",
       "    </tr>\n",
       "  </tbody>\n",
       "</table>\n",
       "</div>"
      ],
      "text/plain": [
       "                   text\n",
       "sub_category           \n",
       "Learning           2679\n",
       "breastfeeding      2238\n",
       "cold_and_cough     2382\n",
       "nutrition          2852\n",
       "oral_care          2259\n",
       "others             2248\n",
       "pregnancy          2534\n",
       "recipes            2130\n",
       "skin_care          2833\n",
       "women_health_skin  2693"
      ]
     },
     "execution_count": 11,
     "metadata": {},
     "output_type": "execute_result"
    }
   ],
   "source": [
    "merged_file.groupby('sub_category').count()"
   ]
  },
  {
   "cell_type": "markdown",
   "metadata": {},
   "source": [
    "#### Preprocessing"
   ]
  },
  {
   "cell_type": "code",
   "execution_count": 15,
   "metadata": {},
   "outputs": [
    {
     "data": {
      "text/plain": [
       "4072"
      ]
     },
     "execution_count": 15,
     "metadata": {},
     "output_type": "execute_result"
    }
   ],
   "source": [
    "stop_words = pd.read_csv('stop_words_model_text.txt')\n",
    "stopWordSet = [x for x in stop_words['stop']]\n",
    "stopWordSet = list(set(stopWordSet))\n",
    "len(stopWordSet)"
   ]
  },
  {
   "cell_type": "raw",
   "metadata": {},
   "source": [
    "for word in more_stopwords:\n",
    "    stopWordSet.append(word)\n",
    "len(stopWordSet)"
   ]
  },
  {
   "cell_type": "code",
   "execution_count": 17,
   "metadata": {},
   "outputs": [],
   "source": [
    "def stopWords(text):\n",
    "    text = text.split()\n",
    "    text = [word for word in text if word not in stopWordSet]\n",
    "    text = ' '.join(text)\n",
    "    return(text)"
   ]
  },
  {
   "cell_type": "code",
   "execution_count": 18,
   "metadata": {},
   "outputs": [],
   "source": [
    "def url_extractor(text):\n",
    "    extractor = URLExtract()\n",
    "    urls = extractor.find_urls(text)\n",
    "    text = text.split(' ')\n",
    "    text = [ words for words in text if words not in urls]\n",
    "    text = ' '.join(text)\n",
    "    return(text)"
   ]
  },
  {
   "cell_type": "code",
   "execution_count": 19,
   "metadata": {},
   "outputs": [],
   "source": [
    "def lemmatizer(text):\n",
    "    lemmatizer = WordNetLemmatizer()\n",
    "    text = text.split(' ')\n",
    "    text = [lemmatizer.lemmatize(term) for term in text]\n",
    "    text = ' '.join(text)\n",
    "    return(text)"
   ]
  },
  {
   "cell_type": "code",
   "execution_count": 26,
   "metadata": {},
   "outputs": [],
   "source": [
    "def preprocessing_text(text):\n",
    "    text = str(text).lower()\n",
    "    text = re.sub('\\n','',text)\n",
    "    text = url_extractor(text)\n",
    "    text = re.sub('[^A-Za-z0-9]+', ' ',text)\n",
    "    text = stopWords(text)\n",
    "    text = lemmatizer(text)\n",
    "    text = re.sub('[0-9]','',text)\n",
    "    return(text)"
   ]
  },
  {
   "cell_type": "markdown",
   "metadata": {},
   "source": [
    "#### Applying the preprocessing on the file"
   ]
  },
  {
   "cell_type": "code",
   "execution_count": 31,
   "metadata": {},
   "outputs": [],
   "source": [
    "merged_file['text'] = merged_file['text'].apply(lambda x: preprocessing_text_text(x))"
   ]
  },
  {
   "cell_type": "code",
   "execution_count": 32,
   "metadata": {},
   "outputs": [],
   "source": [
    "data_file = merged_file"
   ]
  },
  {
   "cell_type": "markdown",
   "metadata": {},
   "source": [
    "#### Using the Wordnet Lemmatizer"
   ]
  },
  {
   "cell_type": "raw",
   "metadata": {},
   "source": [
    "from nltk.stem import WordNetLemmatizer\n",
    "lemmatizer = WordNetLemmatizer()\n",
    "data_file['text'] = data_file['text'].apply(lambda x: ' '.join(lemmatizer.lemmatize(term) for term in x.split()))"
   ]
  },
  {
   "cell_type": "markdown",
   "metadata": {},
   "source": [
    "#### Splitting the dataset into training and testing "
   ]
  },
  {
   "cell_type": "code",
   "execution_count": 33,
   "metadata": {},
   "outputs": [],
   "source": [
    "x_train,x_test,y_train,y_test = model_selection.train_test_split(data_file['text'],data_file['sub_category'], test_size = 0.1, random_state=1)"
   ]
  },
  {
   "cell_type": "markdown",
   "metadata": {},
   "source": [
    "#### Label Encoder for the text dataset "
   ]
  },
  {
   "cell_type": "code",
   "execution_count": 34,
   "metadata": {},
   "outputs": [],
   "source": [
    "label_encoder = LabelEncoder()\n",
    "label_train = label_encoder.fit_transform(y_train)\n",
    "label_test = label_encoder.fit_transform(y_test)"
   ]
  },
  {
   "cell_type": "code",
   "execution_count": 35,
   "metadata": {},
   "outputs": [
    {
     "data": {
      "text/plain": [
       "(22363, 2485)"
      ]
     },
     "execution_count": 35,
     "metadata": {},
     "output_type": "execute_result"
    }
   ],
   "source": [
    "len(label_train),len(label_test)"
   ]
  },
  {
   "cell_type": "markdown",
   "metadata": {},
   "source": [
    "#### TFidf vectorizer experiment"
   ]
  },
  {
   "cell_type": "code",
   "execution_count": 36,
   "metadata": {},
   "outputs": [],
   "source": [
    "tfidf_vect_ngram = TfidfVectorizer(analyzer='word', token_pattern=r'\\w{1,}', ngram_range=(1,3),max_features=18000)\n",
    "tfidf_vect_ngram.fit(data_file['text'])\n",
    "xtrain_tfidf_ngram =  tfidf_vect_ngram.transform(x_train)\n",
    "xtest_tfidf_ngram =  tfidf_vect_ngram.transform(x_test)"
   ]
  },
  {
   "cell_type": "markdown",
   "metadata": {},
   "source": [
    "#### Using the model algoritms "
   ]
  },
  {
   "cell_type": "code",
   "execution_count": 37,
   "metadata": {},
   "outputs": [],
   "source": [
    "from sklearn.naive_bayes import MultinomialNB\n",
    "from sklearn.ensemble import RandomForestClassifier\n",
    "from sklearn.metrics import accuracy_score\n",
    "from sklearn.metrics import confusion_matrix,consensus_score"
   ]
  },
  {
   "cell_type": "code",
   "execution_count": 38,
   "metadata": {},
   "outputs": [
    {
     "data": {
      "text/plain": [
       "0.7851106639839034"
      ]
     },
     "execution_count": 38,
     "metadata": {},
     "output_type": "execute_result"
    }
   ],
   "source": [
    "naive_bayes  = MultinomialNB()\n",
    "naive_bayes.fit(xtrain_tfidf_ngram,label_train)\n",
    "predictions = naive_bayes.predict(xtest_tfidf_ngram)\n",
    "accuracy_score(predictions,label_test)"
   ]
  },
  {
   "cell_type": "markdown",
   "metadata": {},
   "source": [
    "#### Best Hyperparameter Tuning of RandomForest"
   ]
  },
  {
   "cell_type": "code",
   "execution_count": 39,
   "metadata": {},
   "outputs": [],
   "source": [
    "forest = RandomForestClassifier(bootstrap=True, class_weight=None, criterion='gini',\n",
    "                       max_depth=None, max_features='auto', max_leaf_nodes=None,\n",
    "                       min_impurity_decrease=0.0, min_impurity_split=None,\n",
    "                       min_samples_leaf=3, min_samples_split=10,\n",
    "                       min_weight_fraction_leaf=0.0, n_estimators=125, n_jobs=-1,\n",
    "                       oob_score=True, random_state=None, verbose=0,\n",
    "                       warm_start=False)"
   ]
  },
  {
   "cell_type": "code",
   "execution_count": 40,
   "metadata": {},
   "outputs": [
    {
     "data": {
      "text/plain": [
       "0.8370221327967807"
      ]
     },
     "execution_count": 40,
     "metadata": {},
     "output_type": "execute_result"
    }
   ],
   "source": [
    "forest.fit(xtrain_tfidf_ngram,label_train)\n",
    "predictions = forest.predict(xtest_tfidf_ngram)\n",
    "accuracy_score(predictions,label_test)"
   ]
  },
  {
   "cell_type": "code",
   "execution_count": 45,
   "metadata": {},
   "outputs": [
    {
     "data": {
      "text/plain": [
       "0.8365603899297948"
      ]
     },
     "execution_count": 45,
     "metadata": {},
     "output_type": "execute_result"
    }
   ],
   "source": [
    "forest.oob_score_"
   ]
  },
  {
   "cell_type": "markdown",
   "metadata": {},
   "source": [
    "### Dumping sub_category models, vectorizers and encoders "
   ]
  },
  {
   "cell_type": "code",
   "execution_count": 42,
   "metadata": {},
   "outputs": [],
   "source": [
    "#Dumping the model \n",
    "import joblib\n",
    "models_path = \"C:\\\\Users\\\\Asim\\\\Desktop\\\\Baby Destination Data\\\\final_model\\\\sub_category\\\\models\\\\\"\n",
    "model_filename ='sub_category_model_joblib.pkl'\n",
    "joblib.dump(forest,open(models_path+model_filename, 'wb'))"
   ]
  },
  {
   "cell_type": "code",
   "execution_count": 43,
   "metadata": {},
   "outputs": [],
   "source": [
    "#Dumping the vectorizer\n",
    "vectorizer_filename = 'sub_category_vectorizer_joblib.pkl'\n",
    "joblib.dump(tfidf_vect_ngram,open(models_path+vectorizer_filename,'wb'))"
   ]
  },
  {
   "cell_type": "code",
   "execution_count": 44,
   "metadata": {},
   "outputs": [],
   "source": [
    "#Dumping the Label Encoder \n",
    "encoder_filename = 'sub_category_encoder_joblib.pkl'\n",
    "joblib.dump(label_encoder,open(models_path+encoder_filename,'wb'))"
   ]
  },
  {
   "cell_type": "markdown",
   "metadata": {},
   "source": [
    "#### Loading_models,  vectorizers and encoders"
   ]
  },
  {
   "cell_type": "code",
   "execution_count": 17,
   "metadata": {},
   "outputs": [],
   "source": [
    "import pickle"
   ]
  },
  {
   "cell_type": "code",
   "execution_count": 18,
   "metadata": {},
   "outputs": [],
   "source": [
    "model_filename ='sub_category_model.pkl'\n",
    "vectorizer_filename = 'sub_category_vectorizer.pkl'\n",
    "encoder_filename = 'sub_category_encoder.pkl'"
   ]
  },
  {
   "cell_type": "code",
   "execution_count": 19,
   "metadata": {},
   "outputs": [],
   "source": [
    "models_path = \"C:\\\\Users\\\\Asim\\\\Desktop\\\\Baby Destination Data\\\\final_model\\\\sub_category\\\\models\\\\\"\n",
    "with open(models_path+model_filename,'rb') as f:\n",
    "    model_sub_category = pickle.load(f)"
   ]
  },
  {
   "cell_type": "code",
   "execution_count": 20,
   "metadata": {},
   "outputs": [],
   "source": [
    "with open(models_path+vectorizer_filename,'rb') as f:\n",
    "    vectorizer_sub_category = pickle.load(f)"
   ]
  },
  {
   "cell_type": "code",
   "execution_count": 21,
   "metadata": {},
   "outputs": [],
   "source": [
    "with open(models_path+encoder_filename,'rb') as f:\n",
    "    encoder_sub_category = pickle.load(f)"
   ]
  },
  {
   "cell_type": "markdown",
   "metadata": {},
   "source": [
    "#### Prediction on base of single text for checking model "
   ]
  },
  {
   "cell_type": "code",
   "execution_count": 22,
   "metadata": {},
   "outputs": [],
   "source": [
    "text =\"\"\"\n",
    "Hi mam how  are you thank you for your support i want to ask u that i m suffering from itching in vagina outer skin can u suggest me plz\n",
    "\n",
    "\"\"\""
   ]
  },
  {
   "cell_type": "raw",
   "metadata": {},
   "source": [
    "text =\"\"\"\n",
    "\n",
    "mere husband mere baby ko pamper krte h \n",
    "\n",
    "\n",
    "\"\"\""
   ]
  },
  {
   "cell_type": "raw",
   "metadata": {},
   "source": [
    "text_1 = \"\"\"\n",
    "mere bete ke lie johnson oil best h.\n",
    "\"\"\""
   ]
  },
  {
   "cell_type": "code",
   "execution_count": 24,
   "metadata": {},
   "outputs": [],
   "source": [
    "text = preprocessing_text(text)\n",
    "text_tfidf = vectorizer_sub_category.transform([text])"
   ]
  },
  {
   "cell_type": "raw",
   "metadata": {},
   "source": [
    "text = preprocessing(text_1)\n",
    "text_tfidf = vectorizer_sub_category.transform([text])"
   ]
  },
  {
   "cell_type": "code",
   "execution_count": 25,
   "metadata": {},
   "outputs": [],
   "source": [
    "prediction = model_sub_category.predict(text_tfidf)"
   ]
  },
  {
   "cell_type": "code",
   "execution_count": 26,
   "metadata": {},
   "outputs": [
    {
     "data": {
      "text/plain": [
       "'support suffering from itching vagina outer suggest'"
      ]
     },
     "execution_count": 26,
     "metadata": {},
     "output_type": "execute_result"
    }
   ],
   "source": [
    "text"
   ]
  },
  {
   "cell_type": "code",
   "execution_count": 27,
   "metadata": {},
   "outputs": [
    {
     "data": {
      "text/plain": [
       "array([[0.25956638, 0.08138839, 0.14710296, 0.08549221, 0.03757381,\n",
       "        0.17216508, 0.06511106, 0.01829956, 0.06990692, 0.06339364]])"
      ]
     },
     "execution_count": 27,
     "metadata": {},
     "output_type": "execute_result"
    }
   ],
   "source": [
    "model_sub_category.predict_proba(text_tfidf)"
   ]
  },
  {
   "cell_type": "code",
   "execution_count": 28,
   "metadata": {},
   "outputs": [
    {
     "data": {
      "text/plain": [
       "array(['Learning', 'breastfeeding', 'cold_and_cough', 'nutrition',\n",
       "       'oral_care', 'others', 'pregnancy', 'recipes', 'skin_care',\n",
       "       'women_health_skin'], dtype=object)"
      ]
     },
     "execution_count": 28,
     "metadata": {},
     "output_type": "execute_result"
    }
   ],
   "source": [
    "encoder_sub_category.classes_"
   ]
  },
  {
   "cell_type": "code",
   "execution_count": 246,
   "metadata": {},
   "outputs": [
    {
     "data": {
      "text/plain": [
       "array(['pregnancy'], dtype=object)"
      ]
     },
     "execution_count": 246,
     "metadata": {},
     "output_type": "execute_result"
    }
   ],
   "source": [
    "encoder_sub_category.inverse_transform(prediction)"
   ]
  },
  {
   "cell_type": "code",
   "execution_count": null,
   "metadata": {},
   "outputs": [],
   "source": []
  },
  {
   "cell_type": "code",
   "execution_count": null,
   "metadata": {},
   "outputs": [],
   "source": []
  },
  {
   "cell_type": "code",
   "execution_count": null,
   "metadata": {},
   "outputs": [],
   "source": []
  },
  {
   "cell_type": "code",
   "execution_count": null,
   "metadata": {},
   "outputs": [],
   "source": []
  },
  {
   "cell_type": "markdown",
   "metadata": {},
   "source": [
    "#### THE END"
   ]
  },
  {
   "cell_type": "markdown",
   "metadata": {},
   "source": [
    "#### Confusion Matrix and see where the model is making errors "
   ]
  },
  {
   "cell_type": "code",
   "execution_count": 98,
   "metadata": {},
   "outputs": [
    {
     "data": {
      "text/plain": [
       "array([[488,   6,  88,   1,   2,   2,   2,   5],\n",
       "       [ 52, 462,  68,   3,   1,  19,  16,   2],\n",
       "       [ 49,  32, 590,  10,   1,  20,   9,   6],\n",
       "       [  5,   7,  24, 530,   2,   4,   6,   2],\n",
       "       [  6,   8,  15,   1, 464,   1,   5,  12],\n",
       "       [ 13,   4,  15,   0,   0, 588,   2,   5],\n",
       "       [  4,   8,  29,   1,   2,   7, 480,   1],\n",
       "       [ 32,  25,  93,   0,  31,  11,  25, 264]], dtype=int64)"
      ]
     },
     "execution_count": 98,
     "metadata": {},
     "output_type": "execute_result"
    }
   ],
   "source": [
    "confusion_matrix(label_test,predictions)"
   ]
  },
  {
   "cell_type": "code",
   "execution_count": 99,
   "metadata": {},
   "outputs": [
    {
     "data": {
      "text/plain": [
       "array(['breastfeeding', 'cold_and_cough', 'nutrition', 'oral_care',\n",
       "       'pregnancy', 'recipes', 'skin_care', 'women_health_skin'],\n",
       "      dtype=object)"
      ]
     },
     "execution_count": 99,
     "metadata": {},
     "output_type": "execute_result"
    }
   ],
   "source": [
    "label_encoder.classes_"
   ]
  },
  {
   "cell_type": "code",
   "execution_count": null,
   "metadata": {},
   "outputs": [],
   "source": []
  },
  {
   "cell_type": "code",
   "execution_count": null,
   "metadata": {},
   "outputs": [],
   "source": []
  },
  {
   "cell_type": "code",
   "execution_count": null,
   "metadata": {},
   "outputs": [],
   "source": []
  },
  {
   "cell_type": "code",
   "execution_count": null,
   "metadata": {},
   "outputs": [],
   "source": []
  },
  {
   "cell_type": "code",
   "execution_count": null,
   "metadata": {},
   "outputs": [],
   "source": []
  },
  {
   "cell_type": "code",
   "execution_count": null,
   "metadata": {},
   "outputs": [],
   "source": []
  },
  {
   "cell_type": "code",
   "execution_count": null,
   "metadata": {},
   "outputs": [],
   "source": []
  },
  {
   "cell_type": "code",
   "execution_count": null,
   "metadata": {},
   "outputs": [],
   "source": []
  },
  {
   "cell_type": "code",
   "execution_count": null,
   "metadata": {},
   "outputs": [],
   "source": []
  },
  {
   "cell_type": "code",
   "execution_count": null,
   "metadata": {},
   "outputs": [],
   "source": []
  },
  {
   "cell_type": "code",
   "execution_count": null,
   "metadata": {},
   "outputs": [],
   "source": []
  },
  {
   "cell_type": "code",
   "execution_count": null,
   "metadata": {},
   "outputs": [],
   "source": []
  },
  {
   "cell_type": "code",
   "execution_count": 103,
   "metadata": {},
   "outputs": [],
   "source": [
    "test_text = pd.DataFrame()\n",
    "test_text['text'] = x_test\n",
    "test_text.reset_index(drop=True,inplace=True)\n",
    "prediction_dataframe = pd.DataFrame()\n",
    "prediction_dataframe['prediction'] = predictions\n",
    "prediction_dataframe['real_labels'] = label_test\n",
    "prediction_dataframe['text'] = test_text['text']"
   ]
  },
  {
   "cell_type": "code",
   "execution_count": 104,
   "metadata": {},
   "outputs": [],
   "source": [
    "unmatched_labels = prediction_dataframe.where((prediction_dataframe['prediction'] != prediction_dataframe['real_labels']))\n",
    "unmatched_labels = unmatched_labels[unmatched_labels['prediction'].notnull()]\n",
    "unmatched_labels.reset_index(drop=True,inplace=True)"
   ]
  },
  {
   "cell_type": "code",
   "execution_count": 105,
   "metadata": {},
   "outputs": [],
   "source": [
    "unmatched_labels['prediction'] = unmatched_labels['prediction'].apply(lambda x:int(x))\n",
    "unmatched_labels['real_labels'] = unmatched_labels['real_labels'].apply(lambda x:int(x))\n",
    "unmatched_labels['prediction_text'] = label_encoder.inverse_transform(unmatched_labels['prediction'])\n",
    "unmatched_labels['real_label_text'] = label_encoder.inverse_transform(unmatched_labels['real_labels'])"
   ]
  },
  {
   "cell_type": "code",
   "execution_count": 106,
   "metadata": {},
   "outputs": [
    {
     "data": {
      "text/html": [
       "<div>\n",
       "<style scoped>\n",
       "    .dataframe tbody tr th:only-of-type {\n",
       "        vertical-align: middle;\n",
       "    }\n",
       "\n",
       "    .dataframe tbody tr th {\n",
       "        vertical-align: top;\n",
       "    }\n",
       "\n",
       "    .dataframe thead th {\n",
       "        text-align: right;\n",
       "    }\n",
       "</style>\n",
       "<table border=\"1\" class=\"dataframe\">\n",
       "  <thead>\n",
       "    <tr style=\"text-align: right;\">\n",
       "      <th></th>\n",
       "      <th>prediction</th>\n",
       "      <th>real_labels</th>\n",
       "      <th>text</th>\n",
       "      <th>prediction_text</th>\n",
       "      <th>real_label_text</th>\n",
       "    </tr>\n",
       "  </thead>\n",
       "  <tbody>\n",
       "    <tr>\n",
       "      <td>0</td>\n",
       "      <td>2</td>\n",
       "      <td>7</td>\n",
       "      <td>jeera or sauff watar banane ke baad jo jeera s...</td>\n",
       "      <td>nutrition</td>\n",
       "      <td>women_health_skin</td>\n",
       "    </tr>\n",
       "    <tr>\n",
       "      <td>1</td>\n",
       "      <td>2</td>\n",
       "      <td>0</td>\n",
       "      <td>tejaswani bhambota pankaj</td>\n",
       "      <td>nutrition</td>\n",
       "      <td>breastfeeding</td>\n",
       "    </tr>\n",
       "    <tr>\n",
       "      <td>2</td>\n",
       "      <td>0</td>\n",
       "      <td>1</td>\n",
       "      <td>hii mommiesi had lump fever with chill unbeara...</td>\n",
       "      <td>breastfeeding</td>\n",
       "      <td>cold_and_cough</td>\n",
       "    </tr>\n",
       "    <tr>\n",
       "      <td>3</td>\n",
       "      <td>2</td>\n",
       "      <td>6</td>\n",
       "      <td>usko neend ati hogi u time ji time wo itching ...</td>\n",
       "      <td>nutrition</td>\n",
       "      <td>skin_care</td>\n",
       "    </tr>\n",
       "    <tr>\n",
       "      <td>4</td>\n",
       "      <td>2</td>\n",
       "      <td>0</td>\n",
       "      <td>or 15 min 20 min shoulder pr rkhna is not poss...</td>\n",
       "      <td>nutrition</td>\n",
       "      <td>breastfeeding</td>\n",
       "    </tr>\n",
       "    <tr>\n",
       "      <td>5</td>\n",
       "      <td>0</td>\n",
       "      <td>2</td>\n",
       "      <td>1 of my twin had same issue when they wer same...</td>\n",
       "      <td>breastfeeding</td>\n",
       "      <td>nutrition</td>\n",
       "    </tr>\n",
       "    <tr>\n",
       "      <td>6</td>\n",
       "      <td>2</td>\n",
       "      <td>7</td>\n",
       "      <td>kya pure din garam pani pine se constipation h...</td>\n",
       "      <td>nutrition</td>\n",
       "      <td>women_health_skin</td>\n",
       "    </tr>\n",
       "    <tr>\n",
       "      <td>7</td>\n",
       "      <td>0</td>\n",
       "      <td>1</td>\n",
       "      <td>my 10 week old ha some nasal congestion and mi...</td>\n",
       "      <td>breastfeeding</td>\n",
       "      <td>cold_and_cough</td>\n",
       "    </tr>\n",
       "    <tr>\n",
       "      <td>8</td>\n",
       "      <td>4</td>\n",
       "      <td>7</td>\n",
       "      <td>bsimhairfallbreastfeeding or not hairfall is c...</td>\n",
       "      <td>pregnancy</td>\n",
       "      <td>women_health_skin</td>\n",
       "    </tr>\n",
       "    <tr>\n",
       "      <td>9</td>\n",
       "      <td>5</td>\n",
       "      <td>2</td>\n",
       "      <td>aaj avi lunch me m ne baby ke liye or apne liy...</td>\n",
       "      <td>recipes</td>\n",
       "      <td>nutrition</td>\n",
       "    </tr>\n",
       "  </tbody>\n",
       "</table>\n",
       "</div>"
      ],
      "text/plain": [
       "   prediction  real_labels                                               text  \\\n",
       "0           2            7  jeera or sauff watar banane ke baad jo jeera s...   \n",
       "1           2            0                          tejaswani bhambota pankaj   \n",
       "2           0            1  hii mommiesi had lump fever with chill unbeara...   \n",
       "3           2            6  usko neend ati hogi u time ji time wo itching ...   \n",
       "4           2            0  or 15 min 20 min shoulder pr rkhna is not poss...   \n",
       "5           0            2  1 of my twin had same issue when they wer same...   \n",
       "6           2            7  kya pure din garam pani pine se constipation h...   \n",
       "7           0            1  my 10 week old ha some nasal congestion and mi...   \n",
       "8           4            7  bsimhairfallbreastfeeding or not hairfall is c...   \n",
       "9           5            2  aaj avi lunch me m ne baby ke liye or apne liy...   \n",
       "\n",
       "  prediction_text    real_label_text  \n",
       "0       nutrition  women_health_skin  \n",
       "1       nutrition      breastfeeding  \n",
       "2   breastfeeding     cold_and_cough  \n",
       "3       nutrition          skin_care  \n",
       "4       nutrition      breastfeeding  \n",
       "5   breastfeeding          nutrition  \n",
       "6       nutrition  women_health_skin  \n",
       "7   breastfeeding     cold_and_cough  \n",
       "8       pregnancy  women_health_skin  \n",
       "9         recipes          nutrition  "
      ]
     },
     "execution_count": 106,
     "metadata": {},
     "output_type": "execute_result"
    }
   ],
   "source": [
    "unmatched_labels[:10]"
   ]
  },
  {
   "cell_type": "code",
   "execution_count": 107,
   "metadata": {},
   "outputs": [
    {
     "data": {
      "text/plain": [
       "array(['breastfeeding', 'cold_and_cough', 'nutrition', 'oral_care',\n",
       "       'pregnancy', 'recipes', 'skin_care', 'women_health_skin'],\n",
       "      dtype=object)"
      ]
     },
     "execution_count": 107,
     "metadata": {},
     "output_type": "execute_result"
    }
   ],
   "source": [
    "label_encoder.classes_"
   ]
  },
  {
   "cell_type": "code",
   "execution_count": 108,
   "metadata": {},
   "outputs": [],
   "source": [
    "unmatched_labels.to_csv(training_path+'unmatched_labels.csv',index=False)"
   ]
  },
  {
   "cell_type": "code",
   "execution_count": null,
   "metadata": {},
   "outputs": [],
   "source": []
  },
  {
   "cell_type": "markdown",
   "metadata": {},
   "source": [
    "#### Checking the model "
   ]
  },
  {
   "cell_type": "code",
   "execution_count": 42,
   "metadata": {},
   "outputs": [],
   "source": [
    "#test_path = \"C:\\\\Users\\\\Asim\\\\Desktop\\\\Tay Keith\\\\lifestage\\\\model_checking\\\\\""
   ]
  },
  {
   "cell_type": "code",
   "execution_count": 43,
   "metadata": {},
   "outputs": [],
   "source": [
    "testing_data = pd.read_csv('predictions_on_research_file.csv')"
   ]
  },
  {
   "cell_type": "code",
   "execution_count": 44,
   "metadata": {},
   "outputs": [
    {
     "data": {
      "text/html": [
       "<div>\n",
       "<style scoped>\n",
       "    .dataframe tbody tr th:only-of-type {\n",
       "        vertical-align: middle;\n",
       "    }\n",
       "\n",
       "    .dataframe tbody tr th {\n",
       "        vertical-align: top;\n",
       "    }\n",
       "\n",
       "    .dataframe thead th {\n",
       "        text-align: right;\n",
       "    }\n",
       "</style>\n",
       "<table border=\"1\" class=\"dataframe\">\n",
       "  <thead>\n",
       "    <tr style=\"text-align: right;\">\n",
       "      <th></th>\n",
       "      <th>text</th>\n",
       "      <th>groupname</th>\n",
       "      <th>prediction</th>\n",
       "      <th>check</th>\n",
       "    </tr>\n",
       "  </thead>\n",
       "  <tbody>\n",
       "    <tr>\n",
       "      <td>0</td>\n",
       "      <td>my lo is 1and half month old c section deliver...</td>\n",
       "      <td>Breastfeeding Support For Indian Mothers</td>\n",
       "      <td>['mother']</td>\n",
       "      <td>0.0</td>\n",
       "    </tr>\n",
       "    <tr>\n",
       "      <td>1</td>\n",
       "      <td>my son is a week shy of 4months and is ebf he ...</td>\n",
       "      <td>Breastfeeding Support For Indian Mothers</td>\n",
       "      <td>['mother']</td>\n",
       "      <td>1.0</td>\n",
       "    </tr>\n",
       "    <tr>\n",
       "      <td>2</td>\n",
       "      <td>beautiful to read</td>\n",
       "      <td>Breastfeeding Support For Indian Mothers</td>\n",
       "      <td>['baby']</td>\n",
       "      <td>0.0</td>\n",
       "    </tr>\n",
       "    <tr>\n",
       "      <td>3</td>\n",
       "      <td>bsimlaugh</td>\n",
       "      <td>Breastfeeding Support For Indian Mothers</td>\n",
       "      <td>['baby']</td>\n",
       "      <td>0.0</td>\n",
       "    </tr>\n",
       "  </tbody>\n",
       "</table>\n",
       "</div>"
      ],
      "text/plain": [
       "                                                text  \\\n",
       "0  my lo is 1and half month old c section deliver...   \n",
       "1  my son is a week shy of 4months and is ebf he ...   \n",
       "2                                  beautiful to read   \n",
       "3                                          bsimlaugh   \n",
       "\n",
       "                                  groupname  prediction  check  \n",
       "0  Breastfeeding Support For Indian Mothers  ['mother']    0.0  \n",
       "1  Breastfeeding Support For Indian Mothers  ['mother']    1.0  \n",
       "2  Breastfeeding Support For Indian Mothers    ['baby']    0.0  \n",
       "3  Breastfeeding Support For Indian Mothers    ['baby']    0.0  "
      ]
     },
     "execution_count": 44,
     "metadata": {},
     "output_type": "execute_result"
    }
   ],
   "source": [
    "testing_data[:4]"
   ]
  },
  {
   "cell_type": "code",
   "execution_count": 46,
   "metadata": {},
   "outputs": [],
   "source": [
    "testing_data['text'] = testing_data['text'].apply(lambda x:preprocessing(str(x)))\n",
    "testing_data['text'] = testing_data['text'].apply(lambda x: ' '.join(lemmatizer.lemmatize(term) for term in x.split()))"
   ]
  },
  {
   "cell_type": "code",
   "execution_count": 47,
   "metadata": {},
   "outputs": [
    {
     "data": {
      "text/plain": [
       "(1996, 4)"
      ]
     },
     "execution_count": 47,
     "metadata": {},
     "output_type": "execute_result"
    }
   ],
   "source": [
    "testing_data.shape"
   ]
  },
  {
   "cell_type": "code",
   "execution_count": 48,
   "metadata": {},
   "outputs": [],
   "source": [
    "prediction_file = []\n",
    "for text in testing_data['text']:\n",
    "    prediction_file.append(forest.predict(tfidf_vect_ngram.transform([text])))"
   ]
  },
  {
   "cell_type": "code",
   "execution_count": 49,
   "metadata": {},
   "outputs": [
    {
     "data": {
      "text/plain": [
       "[array([0]),\n",
       " array([0]),\n",
       " array([2]),\n",
       " array([4]),\n",
       " array([0]),\n",
       " array([0]),\n",
       " array([0]),\n",
       " array([0]),\n",
       " array([0]),\n",
       " array([0]),\n",
       " array([0]),\n",
       " array([0]),\n",
       " array([0]),\n",
       " array([0]),\n",
       " array([0]),\n",
       " array([0]),\n",
       " array([0]),\n",
       " array([0]),\n",
       " array([0]),\n",
       " array([0]),\n",
       " array([0]),\n",
       " array([0]),\n",
       " array([0]),\n",
       " array([0]),\n",
       " array([0]),\n",
       " array([0]),\n",
       " array([0]),\n",
       " array([0]),\n",
       " array([0]),\n",
       " array([0]),\n",
       " array([0]),\n",
       " array([0]),\n",
       " array([0]),\n",
       " array([0]),\n",
       " array([0]),\n",
       " array([0]),\n",
       " array([0]),\n",
       " array([0]),\n",
       " array([0]),\n",
       " array([0]),\n",
       " array([0]),\n",
       " array([0]),\n",
       " array([0]),\n",
       " array([0]),\n",
       " array([0]),\n",
       " array([0]),\n",
       " array([0]),\n",
       " array([0]),\n",
       " array([0]),\n",
       " array([0]),\n",
       " array([0]),\n",
       " array([0]),\n",
       " array([0]),\n",
       " array([0]),\n",
       " array([0]),\n",
       " array([0]),\n",
       " array([0]),\n",
       " array([0]),\n",
       " array([0]),\n",
       " array([0]),\n",
       " array([0]),\n",
       " array([0]),\n",
       " array([0]),\n",
       " array([0]),\n",
       " array([0]),\n",
       " array([0]),\n",
       " array([0]),\n",
       " array([0]),\n",
       " array([0]),\n",
       " array([0]),\n",
       " array([0]),\n",
       " array([0]),\n",
       " array([0]),\n",
       " array([0]),\n",
       " array([0]),\n",
       " array([0]),\n",
       " array([0]),\n",
       " array([0]),\n",
       " array([0]),\n",
       " array([0]),\n",
       " array([0]),\n",
       " array([0]),\n",
       " array([4]),\n",
       " array([0]),\n",
       " array([0]),\n",
       " array([0]),\n",
       " array([0]),\n",
       " array([0]),\n",
       " array([0]),\n",
       " array([0]),\n",
       " array([0]),\n",
       " array([4]),\n",
       " array([0]),\n",
       " array([0]),\n",
       " array([0]),\n",
       " array([0]),\n",
       " array([0]),\n",
       " array([0]),\n",
       " array([0]),\n",
       " array([4]),\n",
       " array([0]),\n",
       " array([0]),\n",
       " array([0]),\n",
       " array([0]),\n",
       " array([0]),\n",
       " array([0]),\n",
       " array([0]),\n",
       " array([0]),\n",
       " array([0]),\n",
       " array([0]),\n",
       " array([0]),\n",
       " array([0]),\n",
       " array([0]),\n",
       " array([0]),\n",
       " array([0]),\n",
       " array([0]),\n",
       " array([0]),\n",
       " array([0]),\n",
       " array([0]),\n",
       " array([0]),\n",
       " array([0]),\n",
       " array([0]),\n",
       " array([0]),\n",
       " array([0]),\n",
       " array([0]),\n",
       " array([0]),\n",
       " array([0]),\n",
       " array([0]),\n",
       " array([0]),\n",
       " array([0]),\n",
       " array([0]),\n",
       " array([0]),\n",
       " array([0]),\n",
       " array([2]),\n",
       " array([0]),\n",
       " array([0]),\n",
       " array([0]),\n",
       " array([0]),\n",
       " array([0]),\n",
       " array([0]),\n",
       " array([0]),\n",
       " array([0]),\n",
       " array([0]),\n",
       " array([0]),\n",
       " array([0]),\n",
       " array([0]),\n",
       " array([0]),\n",
       " array([0]),\n",
       " array([0]),\n",
       " array([0]),\n",
       " array([0]),\n",
       " array([0]),\n",
       " array([0]),\n",
       " array([0]),\n",
       " array([0]),\n",
       " array([0]),\n",
       " array([0]),\n",
       " array([0]),\n",
       " array([0]),\n",
       " array([0]),\n",
       " array([0]),\n",
       " array([0]),\n",
       " array([0]),\n",
       " array([0]),\n",
       " array([0]),\n",
       " array([0]),\n",
       " array([0]),\n",
       " array([0]),\n",
       " array([0]),\n",
       " array([0]),\n",
       " array([0]),\n",
       " array([0]),\n",
       " array([0]),\n",
       " array([0]),\n",
       " array([0]),\n",
       " array([0]),\n",
       " array([0]),\n",
       " array([0]),\n",
       " array([0]),\n",
       " array([0]),\n",
       " array([0]),\n",
       " array([0]),\n",
       " array([0]),\n",
       " array([0]),\n",
       " array([0]),\n",
       " array([0]),\n",
       " array([0]),\n",
       " array([0]),\n",
       " array([0]),\n",
       " array([0]),\n",
       " array([0]),\n",
       " array([0]),\n",
       " array([0]),\n",
       " array([0]),\n",
       " array([0]),\n",
       " array([0]),\n",
       " array([0]),\n",
       " array([0]),\n",
       " array([4]),\n",
       " array([0]),\n",
       " array([0]),\n",
       " array([0]),\n",
       " array([0]),\n",
       " array([0]),\n",
       " array([0]),\n",
       " array([0]),\n",
       " array([0]),\n",
       " array([2]),\n",
       " array([0]),\n",
       " array([2]),\n",
       " array([0]),\n",
       " array([0]),\n",
       " array([0]),\n",
       " array([2]),\n",
       " array([0]),\n",
       " array([0]),\n",
       " array([0]),\n",
       " array([0]),\n",
       " array([0]),\n",
       " array([4]),\n",
       " array([0]),\n",
       " array([0]),\n",
       " array([0]),\n",
       " array([0]),\n",
       " array([0]),\n",
       " array([0]),\n",
       " array([0]),\n",
       " array([0]),\n",
       " array([0]),\n",
       " array([0]),\n",
       " array([0]),\n",
       " array([0]),\n",
       " array([0]),\n",
       " array([0]),\n",
       " array([4]),\n",
       " array([0]),\n",
       " array([0]),\n",
       " array([0]),\n",
       " array([2]),\n",
       " array([2]),\n",
       " array([0]),\n",
       " array([2]),\n",
       " array([0]),\n",
       " array([0]),\n",
       " array([0]),\n",
       " array([0]),\n",
       " array([0]),\n",
       " array([0]),\n",
       " array([0]),\n",
       " array([0]),\n",
       " array([0]),\n",
       " array([0]),\n",
       " array([0]),\n",
       " array([0]),\n",
       " array([0]),\n",
       " array([4]),\n",
       " array([0]),\n",
       " array([2]),\n",
       " array([0]),\n",
       " array([0]),\n",
       " array([0]),\n",
       " array([0]),\n",
       " array([0]),\n",
       " array([0]),\n",
       " array([0]),\n",
       " array([0]),\n",
       " array([0]),\n",
       " array([0]),\n",
       " array([0]),\n",
       " array([0]),\n",
       " array([0]),\n",
       " array([0]),\n",
       " array([0]),\n",
       " array([0]),\n",
       " array([0]),\n",
       " array([0]),\n",
       " array([0]),\n",
       " array([0]),\n",
       " array([0]),\n",
       " array([0]),\n",
       " array([2]),\n",
       " array([0]),\n",
       " array([0]),\n",
       " array([0]),\n",
       " array([2]),\n",
       " array([2]),\n",
       " array([0]),\n",
       " array([0]),\n",
       " array([0]),\n",
       " array([0]),\n",
       " array([0]),\n",
       " array([0]),\n",
       " array([0]),\n",
       " array([0]),\n",
       " array([4]),\n",
       " array([0]),\n",
       " array([4]),\n",
       " array([2]),\n",
       " array([0]),\n",
       " array([0]),\n",
       " array([0]),\n",
       " array([0]),\n",
       " array([2]),\n",
       " array([0]),\n",
       " array([0]),\n",
       " array([0]),\n",
       " array([0]),\n",
       " array([0]),\n",
       " array([0]),\n",
       " array([4]),\n",
       " array([0]),\n",
       " array([0]),\n",
       " array([0]),\n",
       " array([0]),\n",
       " array([0]),\n",
       " array([0]),\n",
       " array([0]),\n",
       " array([0]),\n",
       " array([0]),\n",
       " array([3]),\n",
       " array([0]),\n",
       " array([0]),\n",
       " array([0]),\n",
       " array([0]),\n",
       " array([0]),\n",
       " array([0]),\n",
       " array([0]),\n",
       " array([0]),\n",
       " array([0]),\n",
       " array([0]),\n",
       " array([0]),\n",
       " array([0]),\n",
       " array([0]),\n",
       " array([0]),\n",
       " array([0]),\n",
       " array([4]),\n",
       " array([0]),\n",
       " array([0]),\n",
       " array([0]),\n",
       " array([0]),\n",
       " array([0]),\n",
       " array([2]),\n",
       " array([0]),\n",
       " array([0]),\n",
       " array([0]),\n",
       " array([2]),\n",
       " array([0]),\n",
       " array([0]),\n",
       " array([0]),\n",
       " array([0]),\n",
       " array([3]),\n",
       " array([0]),\n",
       " array([0]),\n",
       " array([0]),\n",
       " array([0]),\n",
       " array([0]),\n",
       " array([0]),\n",
       " array([0]),\n",
       " array([2]),\n",
       " array([2]),\n",
       " array([0]),\n",
       " array([0]),\n",
       " array([0]),\n",
       " array([0]),\n",
       " array([0]),\n",
       " array([0]),\n",
       " array([4]),\n",
       " array([0]),\n",
       " array([4]),\n",
       " array([0]),\n",
       " array([0]),\n",
       " array([0]),\n",
       " array([0]),\n",
       " array([0]),\n",
       " array([0]),\n",
       " array([0]),\n",
       " array([0]),\n",
       " array([2]),\n",
       " array([2]),\n",
       " array([0]),\n",
       " array([0]),\n",
       " array([3]),\n",
       " array([0]),\n",
       " array([0]),\n",
       " array([0]),\n",
       " array([0]),\n",
       " array([4]),\n",
       " array([2]),\n",
       " array([4]),\n",
       " array([2]),\n",
       " array([2]),\n",
       " array([2]),\n",
       " array([2]),\n",
       " array([0]),\n",
       " array([2]),\n",
       " array([2]),\n",
       " array([0]),\n",
       " array([2]),\n",
       " array([2]),\n",
       " array([1]),\n",
       " array([2]),\n",
       " array([5]),\n",
       " array([0]),\n",
       " array([2]),\n",
       " array([0]),\n",
       " array([2]),\n",
       " array([2]),\n",
       " array([5]),\n",
       " array([2]),\n",
       " array([2]),\n",
       " array([2]),\n",
       " array([2]),\n",
       " array([1]),\n",
       " array([2]),\n",
       " array([2]),\n",
       " array([0]),\n",
       " array([2]),\n",
       " array([0]),\n",
       " array([2]),\n",
       " array([2]),\n",
       " array([2]),\n",
       " array([4]),\n",
       " array([0]),\n",
       " array([0]),\n",
       " array([2]),\n",
       " array([2]),\n",
       " array([1]),\n",
       " array([2]),\n",
       " array([2]),\n",
       " array([2]),\n",
       " array([0]),\n",
       " array([2]),\n",
       " array([4]),\n",
       " array([3]),\n",
       " array([2]),\n",
       " array([2]),\n",
       " array([2]),\n",
       " array([1]),\n",
       " array([0]),\n",
       " array([4]),\n",
       " array([2]),\n",
       " array([2]),\n",
       " array([1]),\n",
       " array([1]),\n",
       " array([2]),\n",
       " array([2]),\n",
       " array([0]),\n",
       " array([2]),\n",
       " array([2]),\n",
       " array([2]),\n",
       " array([2]),\n",
       " array([2]),\n",
       " array([2]),\n",
       " array([2]),\n",
       " array([2]),\n",
       " array([2]),\n",
       " array([3]),\n",
       " array([2]),\n",
       " array([0]),\n",
       " array([2]),\n",
       " array([0]),\n",
       " array([0]),\n",
       " array([0]),\n",
       " array([2]),\n",
       " array([2]),\n",
       " array([2]),\n",
       " array([0]),\n",
       " array([0]),\n",
       " array([2]),\n",
       " array([2]),\n",
       " array([2]),\n",
       " array([2]),\n",
       " array([0]),\n",
       " array([2]),\n",
       " array([4]),\n",
       " array([3]),\n",
       " array([2]),\n",
       " array([5]),\n",
       " array([2]),\n",
       " array([2]),\n",
       " array([2]),\n",
       " array([2]),\n",
       " array([2]),\n",
       " array([0]),\n",
       " array([2]),\n",
       " array([2]),\n",
       " array([2]),\n",
       " array([2]),\n",
       " array([2]),\n",
       " array([2]),\n",
       " array([2]),\n",
       " array([2]),\n",
       " array([2]),\n",
       " array([2]),\n",
       " array([2]),\n",
       " array([2]),\n",
       " array([2]),\n",
       " array([0]),\n",
       " array([0]),\n",
       " array([5]),\n",
       " array([0]),\n",
       " array([2]),\n",
       " array([2]),\n",
       " array([2]),\n",
       " array([0]),\n",
       " array([2]),\n",
       " array([2]),\n",
       " array([4]),\n",
       " array([2]),\n",
       " array([1]),\n",
       " array([0]),\n",
       " array([2]),\n",
       " array([2]),\n",
       " array([1]),\n",
       " array([5]),\n",
       " array([2]),\n",
       " array([2]),\n",
       " array([2]),\n",
       " array([0]),\n",
       " array([5]),\n",
       " array([2]),\n",
       " array([1]),\n",
       " array([2]),\n",
       " array([0]),\n",
       " array([2]),\n",
       " array([4]),\n",
       " array([2]),\n",
       " array([2]),\n",
       " array([3]),\n",
       " array([2]),\n",
       " array([2]),\n",
       " array([4]),\n",
       " array([2]),\n",
       " array([2]),\n",
       " array([2]),\n",
       " array([2]),\n",
       " array([3]),\n",
       " array([2]),\n",
       " array([0]),\n",
       " array([2]),\n",
       " array([0]),\n",
       " array([0]),\n",
       " array([0]),\n",
       " array([2]),\n",
       " array([2]),\n",
       " array([2]),\n",
       " array([2]),\n",
       " array([0]),\n",
       " array([2]),\n",
       " array([2]),\n",
       " array([2]),\n",
       " array([2]),\n",
       " array([1]),\n",
       " array([1]),\n",
       " array([2]),\n",
       " array([2]),\n",
       " array([2]),\n",
       " array([2]),\n",
       " array([4]),\n",
       " array([0]),\n",
       " array([2]),\n",
       " array([2]),\n",
       " array([2]),\n",
       " array([2]),\n",
       " array([0]),\n",
       " array([3]),\n",
       " array([0]),\n",
       " array([2]),\n",
       " array([0]),\n",
       " array([0]),\n",
       " array([4]),\n",
       " array([0]),\n",
       " array([2]),\n",
       " array([2]),\n",
       " array([2]),\n",
       " array([2]),\n",
       " array([2]),\n",
       " array([2]),\n",
       " array([2]),\n",
       " array([0]),\n",
       " array([0]),\n",
       " array([0]),\n",
       " array([0]),\n",
       " array([0]),\n",
       " array([3]),\n",
       " array([2]),\n",
       " array([2]),\n",
       " array([2]),\n",
       " array([0]),\n",
       " array([2]),\n",
       " array([2]),\n",
       " array([0]),\n",
       " array([3]),\n",
       " array([2]),\n",
       " array([2]),\n",
       " array([0]),\n",
       " array([0]),\n",
       " array([3]),\n",
       " array([2]),\n",
       " array([2]),\n",
       " array([2]),\n",
       " array([3]),\n",
       " array([2]),\n",
       " array([3]),\n",
       " array([0]),\n",
       " array([3]),\n",
       " array([2]),\n",
       " array([3]),\n",
       " array([2]),\n",
       " array([2]),\n",
       " array([2]),\n",
       " array([3]),\n",
       " array([0]),\n",
       " array([3]),\n",
       " array([2]),\n",
       " array([0]),\n",
       " array([0]),\n",
       " array([2]),\n",
       " array([2]),\n",
       " array([2]),\n",
       " array([2]),\n",
       " array([3]),\n",
       " array([2]),\n",
       " array([3]),\n",
       " array([5]),\n",
       " array([0]),\n",
       " array([2]),\n",
       " array([2]),\n",
       " array([0]),\n",
       " array([3]),\n",
       " array([0]),\n",
       " array([4]),\n",
       " array([2]),\n",
       " array([0]),\n",
       " array([2]),\n",
       " array([3]),\n",
       " array([2]),\n",
       " array([3]),\n",
       " array([2]),\n",
       " array([2]),\n",
       " array([3]),\n",
       " array([3]),\n",
       " array([3]),\n",
       " array([2]),\n",
       " array([2]),\n",
       " array([2]),\n",
       " array([2]),\n",
       " array([3]),\n",
       " array([2]),\n",
       " array([3]),\n",
       " array([2]),\n",
       " array([2]),\n",
       " array([3]),\n",
       " array([3]),\n",
       " array([2]),\n",
       " array([2]),\n",
       " array([2]),\n",
       " array([0]),\n",
       " array([3]),\n",
       " array([2]),\n",
       " array([2]),\n",
       " array([2]),\n",
       " array([0]),\n",
       " array([3]),\n",
       " array([2]),\n",
       " array([3]),\n",
       " array([3]),\n",
       " array([3]),\n",
       " array([0]),\n",
       " array([3]),\n",
       " array([4]),\n",
       " array([3]),\n",
       " array([0]),\n",
       " array([0]),\n",
       " array([3]),\n",
       " array([0]),\n",
       " array([0]),\n",
       " array([2]),\n",
       " array([2]),\n",
       " array([3]),\n",
       " array([3]),\n",
       " array([0]),\n",
       " array([4]),\n",
       " array([3]),\n",
       " array([2]),\n",
       " array([2]),\n",
       " array([2]),\n",
       " array([5]),\n",
       " array([2]),\n",
       " array([4]),\n",
       " array([2]),\n",
       " array([3]),\n",
       " array([2]),\n",
       " array([0]),\n",
       " array([3]),\n",
       " array([3]),\n",
       " array([2]),\n",
       " array([3]),\n",
       " array([2]),\n",
       " array([2]),\n",
       " array([0]),\n",
       " array([4]),\n",
       " array([0]),\n",
       " array([2]),\n",
       " array([2]),\n",
       " array([3]),\n",
       " array([2]),\n",
       " array([3]),\n",
       " array([3]),\n",
       " array([2]),\n",
       " array([2]),\n",
       " array([2]),\n",
       " array([2]),\n",
       " array([0]),\n",
       " array([3]),\n",
       " array([0]),\n",
       " array([2]),\n",
       " array([3]),\n",
       " array([2]),\n",
       " array([2]),\n",
       " array([4]),\n",
       " array([2]),\n",
       " array([3]),\n",
       " array([3]),\n",
       " array([0]),\n",
       " array([3]),\n",
       " array([3]),\n",
       " array([0]),\n",
       " array([2]),\n",
       " array([2]),\n",
       " array([0]),\n",
       " array([0]),\n",
       " array([2]),\n",
       " array([2]),\n",
       " array([2]),\n",
       " array([2]),\n",
       " array([0]),\n",
       " array([3]),\n",
       " array([4]),\n",
       " array([2]),\n",
       " array([2]),\n",
       " array([3]),\n",
       " array([2]),\n",
       " array([3]),\n",
       " array([0]),\n",
       " array([0]),\n",
       " array([3]),\n",
       " array([2]),\n",
       " array([0]),\n",
       " array([2]),\n",
       " array([2]),\n",
       " array([2]),\n",
       " array([3]),\n",
       " array([3]),\n",
       " array([3]),\n",
       " array([4]),\n",
       " array([3]),\n",
       " array([2]),\n",
       " array([3]),\n",
       " array([3]),\n",
       " array([4]),\n",
       " array([2]),\n",
       " array([2]),\n",
       " array([3]),\n",
       " array([2]),\n",
       " array([2]),\n",
       " array([2]),\n",
       " array([0]),\n",
       " array([2]),\n",
       " array([2]),\n",
       " array([0]),\n",
       " array([2]),\n",
       " array([0]),\n",
       " array([0]),\n",
       " array([2]),\n",
       " array([3]),\n",
       " array([2]),\n",
       " array([0]),\n",
       " array([0]),\n",
       " array([0]),\n",
       " array([0]),\n",
       " array([0]),\n",
       " array([2]),\n",
       " array([3]),\n",
       " array([2]),\n",
       " array([2]),\n",
       " array([2]),\n",
       " array([2]),\n",
       " array([2]),\n",
       " array([0]),\n",
       " array([2]),\n",
       " array([2]),\n",
       " array([3]),\n",
       " array([0]),\n",
       " array([2]),\n",
       " array([0]),\n",
       " array([2]),\n",
       " array([2]),\n",
       " array([2]),\n",
       " array([0]),\n",
       " array([0]),\n",
       " array([2]),\n",
       " array([2]),\n",
       " array([5]),\n",
       " array([0]),\n",
       " array([0]),\n",
       " array([0]),\n",
       " array([2]),\n",
       " array([2]),\n",
       " array([0]),\n",
       " array([2]),\n",
       " array([0]),\n",
       " array([2]),\n",
       " array([2]),\n",
       " array([0]),\n",
       " array([0]),\n",
       " array([0]),\n",
       " array([2]),\n",
       " array([0]),\n",
       " array([2]),\n",
       " array([0]),\n",
       " array([0]),\n",
       " array([0]),\n",
       " array([2]),\n",
       " array([3]),\n",
       " array([0]),\n",
       " array([2]),\n",
       " array([0]),\n",
       " array([0]),\n",
       " array([2]),\n",
       " array([0]),\n",
       " array([2]),\n",
       " array([0]),\n",
       " array([0]),\n",
       " array([0]),\n",
       " array([3]),\n",
       " array([0]),\n",
       " array([2]),\n",
       " array([0]),\n",
       " array([2]),\n",
       " array([3]),\n",
       " array([0]),\n",
       " array([3]),\n",
       " array([0]),\n",
       " array([0]),\n",
       " array([2]),\n",
       " array([0]),\n",
       " array([0]),\n",
       " array([0]),\n",
       " array([0]),\n",
       " array([0]),\n",
       " array([0]),\n",
       " array([0]),\n",
       " array([0]),\n",
       " array([0]),\n",
       " array([2]),\n",
       " array([0]),\n",
       " array([0]),\n",
       " array([2]),\n",
       " array([0]),\n",
       " array([0]),\n",
       " array([0]),\n",
       " array([0]),\n",
       " array([0]),\n",
       " array([2]),\n",
       " array([0]),\n",
       " array([2]),\n",
       " array([2]),\n",
       " array([2]),\n",
       " array([0]),\n",
       " array([2]),\n",
       " array([0]),\n",
       " array([2]),\n",
       " array([0]),\n",
       " array([2]),\n",
       " array([3]),\n",
       " array([0]),\n",
       " array([3]),\n",
       " array([0]),\n",
       " array([4]),\n",
       " array([0]),\n",
       " array([0]),\n",
       " array([3]),\n",
       " array([1]),\n",
       " array([0]),\n",
       " array([0]),\n",
       " array([0]),\n",
       " array([0]),\n",
       " array([0]),\n",
       " array([0]),\n",
       " array([3]),\n",
       " array([0]),\n",
       " array([2]),\n",
       " array([0]),\n",
       " array([3]),\n",
       " array([3]),\n",
       " array([3]),\n",
       " array([0]),\n",
       " array([0]),\n",
       " array([2]),\n",
       " array([0]),\n",
       " array([3]),\n",
       " array([0]),\n",
       " array([2]),\n",
       " array([0]),\n",
       " array([2]),\n",
       " array([4]),\n",
       " array([2]),\n",
       " array([0]),\n",
       " array([3]),\n",
       " array([0]),\n",
       " array([2]),\n",
       " array([0]),\n",
       " array([2]),\n",
       " array([0]),\n",
       " array([2]),\n",
       " array([0]),\n",
       " array([3]),\n",
       " array([0]),\n",
       " array([2]),\n",
       " array([3]),\n",
       " array([0]),\n",
       " array([0]),\n",
       " array([0]),\n",
       " array([0]),\n",
       " array([4]),\n",
       " array([0]),\n",
       " array([0]),\n",
       " array([3]),\n",
       " array([2]),\n",
       " array([2]),\n",
       " array([2]),\n",
       " array([3]),\n",
       " array([2]),\n",
       " array([0]),\n",
       " array([2]),\n",
       " array([2]),\n",
       " array([0]),\n",
       " array([2]),\n",
       " array([2]),\n",
       " array([3]),\n",
       " array([2]),\n",
       " array([0]),\n",
       " array([0]),\n",
       " array([0]),\n",
       " array([0]),\n",
       " array([2]),\n",
       " array([2]),\n",
       " array([0]),\n",
       " array([2]),\n",
       " array([3]),\n",
       " array([0]),\n",
       " array([2]),\n",
       " array([5]),\n",
       " array([3]),\n",
       " array([0]),\n",
       " array([2]),\n",
       " array([3]),\n",
       " array([0]),\n",
       " array([0]),\n",
       " array([0]),\n",
       " array([2]),\n",
       " array([2]),\n",
       " array([3]),\n",
       " array([0]),\n",
       " array([2]),\n",
       " array([0]),\n",
       " array([0]),\n",
       " array([2]),\n",
       " array([0]),\n",
       " array([1]),\n",
       " array([0]),\n",
       " array([0]),\n",
       " array([2]),\n",
       " array([2]),\n",
       " array([2]),\n",
       " array([3]),\n",
       " array([3]),\n",
       " array([3]),\n",
       " array([3]),\n",
       " array([0]),\n",
       " array([0]),\n",
       " array([3]),\n",
       " array([3]),\n",
       " array([2]),\n",
       " array([0]),\n",
       " array([0]),\n",
       " array([0]),\n",
       " array([2]),\n",
       " array([2]),\n",
       " array([3]),\n",
       " array([2]),\n",
       " array([3]),\n",
       " array([0]),\n",
       " array([2]),\n",
       " array([3]),\n",
       " array([3]),\n",
       " array([2]),\n",
       " array([2]),\n",
       " array([2]),\n",
       " ...]"
      ]
     },
     "execution_count": 49,
     "metadata": {},
     "output_type": "execute_result"
    }
   ],
   "source": [
    "prediction_file"
   ]
  },
  {
   "cell_type": "code",
   "execution_count": 50,
   "metadata": {},
   "outputs": [
    {
     "data": {
      "text/plain": [
       "(1996, (1996, 4))"
      ]
     },
     "execution_count": 50,
     "metadata": {},
     "output_type": "execute_result"
    }
   ],
   "source": [
    "len(prediction_file),testing_data.shape"
   ]
  },
  {
   "cell_type": "code",
   "execution_count": 51,
   "metadata": {},
   "outputs": [],
   "source": [
    "testing_data['sub_category_prediction'] = prediction_file"
   ]
  },
  {
   "cell_type": "code",
   "execution_count": 52,
   "metadata": {},
   "outputs": [],
   "source": [
    "testing_data['sub_category_prediction'] = testing_data['sub_category_prediction'].apply(lambda x:label_encoder.inverse_transform(x))"
   ]
  },
  {
   "cell_type": "code",
   "execution_count": 53,
   "metadata": {},
   "outputs": [
    {
     "data": {
      "text/html": [
       "<div>\n",
       "<style scoped>\n",
       "    .dataframe tbody tr th:only-of-type {\n",
       "        vertical-align: middle;\n",
       "    }\n",
       "\n",
       "    .dataframe tbody tr th {\n",
       "        vertical-align: top;\n",
       "    }\n",
       "\n",
       "    .dataframe thead th {\n",
       "        text-align: right;\n",
       "    }\n",
       "</style>\n",
       "<table border=\"1\" class=\"dataframe\">\n",
       "  <thead>\n",
       "    <tr style=\"text-align: right;\">\n",
       "      <th></th>\n",
       "      <th>text</th>\n",
       "      <th>groupname</th>\n",
       "      <th>prediction</th>\n",
       "      <th>check</th>\n",
       "      <th>sub_category_prediction</th>\n",
       "    </tr>\n",
       "  </thead>\n",
       "  <tbody>\n",
       "    <tr>\n",
       "      <td>0</td>\n",
       "      <td>my lo is 1and half month old c section deliver...</td>\n",
       "      <td>Breastfeeding Support For Indian Mothers</td>\n",
       "      <td>['mother']</td>\n",
       "      <td>0.0</td>\n",
       "      <td>[breastfeeding]</td>\n",
       "    </tr>\n",
       "    <tr>\n",
       "      <td>1</td>\n",
       "      <td>my son is a week shy of 4months and is ebf he ...</td>\n",
       "      <td>Breastfeeding Support For Indian Mothers</td>\n",
       "      <td>['mother']</td>\n",
       "      <td>1.0</td>\n",
       "      <td>[breastfeeding]</td>\n",
       "    </tr>\n",
       "    <tr>\n",
       "      <td>2</td>\n",
       "      <td>beautiful to read</td>\n",
       "      <td>Breastfeeding Support For Indian Mothers</td>\n",
       "      <td>['baby']</td>\n",
       "      <td>0.0</td>\n",
       "      <td>[nutrition]</td>\n",
       "    </tr>\n",
       "    <tr>\n",
       "      <td>3</td>\n",
       "      <td>bsimlaugh</td>\n",
       "      <td>Breastfeeding Support For Indian Mothers</td>\n",
       "      <td>['baby']</td>\n",
       "      <td>0.0</td>\n",
       "      <td>[skin_care]</td>\n",
       "    </tr>\n",
       "    <tr>\n",
       "      <td>4</td>\n",
       "      <td>hi mommy my lo is 12 day shy of 5th month she ...</td>\n",
       "      <td>Breastfeeding Support For Indian Mothers</td>\n",
       "      <td>['mother']</td>\n",
       "      <td>0.0</td>\n",
       "      <td>[breastfeeding]</td>\n",
       "    </tr>\n",
       "    <tr>\n",
       "      <td>5</td>\n",
       "      <td>my lo is 5 month old she is on ebf we are plan...</td>\n",
       "      <td>Breastfeeding Support For Indian Mothers</td>\n",
       "      <td>['baby']</td>\n",
       "      <td>0.0</td>\n",
       "      <td>[breastfeeding]</td>\n",
       "    </tr>\n",
       "    <tr>\n",
       "      <td>6</td>\n",
       "      <td>hello mommy i need help for my friend she deli...</td>\n",
       "      <td>Breastfeeding Support For Indian Mothers</td>\n",
       "      <td>['mother']</td>\n",
       "      <td>1.0</td>\n",
       "      <td>[breastfeeding]</td>\n",
       "    </tr>\n",
       "    <tr>\n",
       "      <td>7</td>\n",
       "      <td>here my little j is 18 month is now on new mil...</td>\n",
       "      <td>Breastfeeding Support For Indian Mothers</td>\n",
       "      <td>['baby']</td>\n",
       "      <td>1.0</td>\n",
       "      <td>[breastfeeding]</td>\n",
       "    </tr>\n",
       "    <tr>\n",
       "      <td>8</td>\n",
       "      <td>mommy today i went to my doc for 6 week vaccin...</td>\n",
       "      <td>Breastfeeding Support For Indian Mothers</td>\n",
       "      <td>['mother']</td>\n",
       "      <td>0.0</td>\n",
       "      <td>[breastfeeding]</td>\n",
       "    </tr>\n",
       "    <tr>\n",
       "      <td>9</td>\n",
       "      <td>hi momies i have to join office starting janua...</td>\n",
       "      <td>Breastfeeding Support For Indian Mothers</td>\n",
       "      <td>['mother']</td>\n",
       "      <td>1.0</td>\n",
       "      <td>[breastfeeding]</td>\n",
       "    </tr>\n",
       "  </tbody>\n",
       "</table>\n",
       "</div>"
      ],
      "text/plain": [
       "                                                text  \\\n",
       "0  my lo is 1and half month old c section deliver...   \n",
       "1  my son is a week shy of 4months and is ebf he ...   \n",
       "2                                  beautiful to read   \n",
       "3                                          bsimlaugh   \n",
       "4  hi mommy my lo is 12 day shy of 5th month she ...   \n",
       "5  my lo is 5 month old she is on ebf we are plan...   \n",
       "6  hello mommy i need help for my friend she deli...   \n",
       "7  here my little j is 18 month is now on new mil...   \n",
       "8  mommy today i went to my doc for 6 week vaccin...   \n",
       "9  hi momies i have to join office starting janua...   \n",
       "\n",
       "                                  groupname  prediction  check  \\\n",
       "0  Breastfeeding Support For Indian Mothers  ['mother']    0.0   \n",
       "1  Breastfeeding Support For Indian Mothers  ['mother']    1.0   \n",
       "2  Breastfeeding Support For Indian Mothers    ['baby']    0.0   \n",
       "3  Breastfeeding Support For Indian Mothers    ['baby']    0.0   \n",
       "4  Breastfeeding Support For Indian Mothers  ['mother']    0.0   \n",
       "5  Breastfeeding Support For Indian Mothers    ['baby']    0.0   \n",
       "6  Breastfeeding Support For Indian Mothers  ['mother']    1.0   \n",
       "7  Breastfeeding Support For Indian Mothers    ['baby']    1.0   \n",
       "8  Breastfeeding Support For Indian Mothers  ['mother']    0.0   \n",
       "9  Breastfeeding Support For Indian Mothers  ['mother']    1.0   \n",
       "\n",
       "  sub_category_prediction  \n",
       "0         [breastfeeding]  \n",
       "1         [breastfeeding]  \n",
       "2             [nutrition]  \n",
       "3             [skin_care]  \n",
       "4         [breastfeeding]  \n",
       "5         [breastfeeding]  \n",
       "6         [breastfeeding]  \n",
       "7         [breastfeeding]  \n",
       "8         [breastfeeding]  \n",
       "9         [breastfeeding]  "
      ]
     },
     "execution_count": 53,
     "metadata": {},
     "output_type": "execute_result"
    }
   ],
   "source": [
    "testing_data[:10]"
   ]
  },
  {
   "cell_type": "code",
   "execution_count": 54,
   "metadata": {},
   "outputs": [],
   "source": [
    "testing_data.to_csv('sub_category_predictions_on_research_file.csv',index=False)"
   ]
  },
  {
   "cell_type": "code",
   "execution_count": null,
   "metadata": {},
   "outputs": [],
   "source": []
  },
  {
   "cell_type": "code",
   "execution_count": null,
   "metadata": {},
   "outputs": [],
   "source": []
  },
  {
   "cell_type": "code",
   "execution_count": null,
   "metadata": {},
   "outputs": [],
   "source": []
  },
  {
   "cell_type": "markdown",
   "metadata": {},
   "source": [
    "#### Model Prediction Code snippets on the single text data "
   ]
  },
  {
   "cell_type": "code",
   "execution_count": 395,
   "metadata": {},
   "outputs": [],
   "source": [
    "text  = \"\"\"\n",
    "meri bati 5yrs ki 4 5 din se daily uske forehead pe bich me halki swelling aa jati h koi batayega aisa kyu ho raha h plz suggest me nd advance me thank you\n",
    "\"\"\""
   ]
  },
  {
   "cell_type": "code",
   "execution_count": 396,
   "metadata": {},
   "outputs": [],
   "source": [
    "text = preprocessing(text)"
   ]
  },
  {
   "cell_type": "code",
   "execution_count": 397,
   "metadata": {
    "scrolled": true
   },
   "outputs": [
    {
     "data": {
      "text/plain": [
       "'meri bati 5yrs ki 4 5 din se daily uske forehead pe bich me halki swelling aa jati h koi batayega aisa kyu ho raha h plz suggest me nd advance me thank you'"
      ]
     },
     "execution_count": 397,
     "metadata": {},
     "output_type": "execute_result"
    }
   ],
   "source": [
    "text"
   ]
  },
  {
   "cell_type": "code",
   "execution_count": null,
   "metadata": {},
   "outputs": [],
   "source": []
  },
  {
   "cell_type": "code",
   "execution_count": 398,
   "metadata": {},
   "outputs": [],
   "source": [
    "text_tfidf = tfidf_vect_ngram.transform([text])"
   ]
  },
  {
   "cell_type": "code",
   "execution_count": 399,
   "metadata": {},
   "outputs": [
    {
     "data": {
      "text/plain": [
       "array([[0.02842371, 0.12364546, 0.11919443, 0.05954996, 0.04368642,\n",
       "        0.03334799, 0.5210652 , 0.07108684]])"
      ]
     },
     "execution_count": 399,
     "metadata": {},
     "output_type": "execute_result"
    }
   ],
   "source": [
    "forest.predict_proba(text_tfidf)"
   ]
  },
  {
   "cell_type": "code",
   "execution_count": 400,
   "metadata": {},
   "outputs": [
    {
     "data": {
      "text/plain": [
       "array([6])"
      ]
     },
     "execution_count": 400,
     "metadata": {},
     "output_type": "execute_result"
    }
   ],
   "source": [
    "forest.predict(text_tfidf)"
   ]
  },
  {
   "cell_type": "code",
   "execution_count": 401,
   "metadata": {},
   "outputs": [
    {
     "data": {
      "text/plain": [
       "array(['breastfeeding', 'cold_and_cough', 'nutrition', 'oral_care',\n",
       "       'pregnancy', 'recipes', 'skin_care', 'women_health_skin'],\n",
       "      dtype=object)"
      ]
     },
     "execution_count": 401,
     "metadata": {},
     "output_type": "execute_result"
    }
   ],
   "source": [
    "label_encoder.classes_"
   ]
  },
  {
   "cell_type": "code",
   "execution_count": 402,
   "metadata": {},
   "outputs": [
    {
     "data": {
      "text/plain": [
       "'C:\\\\Users\\\\Asim\\\\Desktop\\\\Tay Keith\\\\models\\\\sub_category\\\\model_building\\\\training_data_gather'"
      ]
     },
     "execution_count": 402,
     "metadata": {},
     "output_type": "execute_result"
    }
   ],
   "source": [
    "pwd"
   ]
  },
  {
   "cell_type": "code",
   "execution_count": null,
   "metadata": {},
   "outputs": [],
   "source": []
  },
  {
   "cell_type": "code",
   "execution_count": null,
   "metadata": {},
   "outputs": [],
   "source": []
  },
  {
   "cell_type": "code",
   "execution_count": null,
   "metadata": {},
   "outputs": [],
   "source": []
  },
  {
   "cell_type": "code",
   "execution_count": null,
   "metadata": {},
   "outputs": [],
   "source": []
  },
  {
   "cell_type": "code",
   "execution_count": null,
   "metadata": {},
   "outputs": [],
   "source": []
  },
  {
   "cell_type": "code",
   "execution_count": null,
   "metadata": {},
   "outputs": [],
   "source": []
  },
  {
   "cell_type": "code",
   "execution_count": null,
   "metadata": {},
   "outputs": [],
   "source": []
  },
  {
   "cell_type": "code",
   "execution_count": null,
   "metadata": {},
   "outputs": [],
   "source": []
  },
  {
   "cell_type": "code",
   "execution_count": null,
   "metadata": {},
   "outputs": [],
   "source": []
  },
  {
   "cell_type": "code",
   "execution_count": null,
   "metadata": {},
   "outputs": [],
   "source": []
  },
  {
   "cell_type": "code",
   "execution_count": null,
   "metadata": {},
   "outputs": [],
   "source": []
  },
  {
   "cell_type": "code",
   "execution_count": null,
   "metadata": {},
   "outputs": [],
   "source": []
  },
  {
   "cell_type": "code",
   "execution_count": null,
   "metadata": {},
   "outputs": [],
   "source": []
  },
  {
   "cell_type": "code",
   "execution_count": null,
   "metadata": {},
   "outputs": [],
   "source": []
  },
  {
   "cell_type": "code",
   "execution_count": null,
   "metadata": {},
   "outputs": [],
   "source": []
  },
  {
   "cell_type": "code",
   "execution_count": null,
   "metadata": {},
   "outputs": [],
   "source": []
  },
  {
   "cell_type": "code",
   "execution_count": 293,
   "metadata": {},
   "outputs": [],
   "source": []
  },
  {
   "cell_type": "code",
   "execution_count": 294,
   "metadata": {},
   "outputs": [
    {
     "data": {
      "text/plain": [
       "array([[ 106,   86,    4,    0,    2,    0,    0,    4],\n",
       "       [   6, 1044,   32,    2,    8,    0,   12,   17],\n",
       "       [   5,  158,  209,    1,   11,    3,   12,    4],\n",
       "       [   0,   50,    3,   40,    2,    0,    0,    1],\n",
       "       [   1,  109,   11,    4,  146,    0,    6,    1],\n",
       "       [   0,   16,    7,    0,    1,   12,    3,    0],\n",
       "       [   4,   99,   14,    2,   13,    0,  129,    0],\n",
       "       [   2,  216,    1,    0,    0,    0,    4,  143]], dtype=int64)"
      ]
     },
     "execution_count": 294,
     "metadata": {},
     "output_type": "execute_result"
    }
   ],
   "source": []
  },
  {
   "cell_type": "code",
   "execution_count": 295,
   "metadata": {},
   "outputs": [
    {
     "data": {
      "text/plain": [
       "array(['big_kid', 'infant', 'mother', 'none', 'others', 'pre_pregnancy',\n",
       "       'pregnancy', 'toddler'], dtype=object)"
      ]
     },
     "execution_count": 295,
     "metadata": {},
     "output_type": "execute_result"
    }
   ],
   "source": [
    "label_encoder.classes_"
   ]
  },
  {
   "cell_type": "code",
   "execution_count": null,
   "metadata": {},
   "outputs": [],
   "source": []
  },
  {
   "cell_type": "code",
   "execution_count": null,
   "metadata": {},
   "outputs": [],
   "source": []
  },
  {
   "cell_type": "code",
   "execution_count": null,
   "metadata": {},
   "outputs": [],
   "source": []
  },
  {
   "cell_type": "code",
   "execution_count": null,
   "metadata": {},
   "outputs": [],
   "source": []
  },
  {
   "cell_type": "code",
   "execution_count": null,
   "metadata": {},
   "outputs": [],
   "source": []
  },
  {
   "cell_type": "code",
   "execution_count": 146,
   "metadata": {},
   "outputs": [],
   "source": [
    "test_text = pd.DataFrame()\n",
    "test_text['text'] = x_test\n",
    "test_text.reset_index(drop=True,inplace=True)\n",
    "prediction_dataframe = pd.DataFrame()\n",
    "prediction_dataframe['prediction'] = prediction\n",
    "prediction_dataframe['real_labels'] = label_test\n",
    "prediction_dataframe['text'] = test_text['text']"
   ]
  },
  {
   "cell_type": "code",
   "execution_count": 147,
   "metadata": {
    "scrolled": true
   },
   "outputs": [
    {
     "data": {
      "text/html": [
       "<div>\n",
       "<style scoped>\n",
       "    .dataframe tbody tr th:only-of-type {\n",
       "        vertical-align: middle;\n",
       "    }\n",
       "\n",
       "    .dataframe tbody tr th {\n",
       "        vertical-align: top;\n",
       "    }\n",
       "\n",
       "    .dataframe thead th {\n",
       "        text-align: right;\n",
       "    }\n",
       "</style>\n",
       "<table border=\"1\" class=\"dataframe\">\n",
       "  <thead>\n",
       "    <tr style=\"text-align: right;\">\n",
       "      <th></th>\n",
       "      <th>prediction</th>\n",
       "      <th>real_labels</th>\n",
       "      <th>text</th>\n",
       "    </tr>\n",
       "  </thead>\n",
       "  <tbody>\n",
       "    <tr>\n",
       "      <td>0</td>\n",
       "      <td>4</td>\n",
       "      <td>4</td>\n",
       "      <td>what a rubbish thinking life is your aj ke tim...</td>\n",
       "    </tr>\n",
       "    <tr>\n",
       "      <td>1</td>\n",
       "      <td>1</td>\n",
       "      <td>1</td>\n",
       "      <td>is it breast feeding baby if it is so nothing ...</td>\n",
       "    </tr>\n",
       "    <tr>\n",
       "      <td>2</td>\n",
       "      <td>1</td>\n",
       "      <td>1</td>\n",
       "      <td>change ur dr 9 kg ur baby s wt is good don t w...</td>\n",
       "    </tr>\n",
       "    <tr>\n",
       "      <td>3</td>\n",
       "      <td>0</td>\n",
       "      <td>0</td>\n",
       "      <td>try the homemade no sugar cooky cereal mix and...</td>\n",
       "    </tr>\n",
       "    <tr>\n",
       "      <td>4</td>\n",
       "      <td>1</td>\n",
       "      <td>7</td>\n",
       "      <td>mahak singh make aata dried fruit laddus bake ...</td>\n",
       "    </tr>\n",
       "  </tbody>\n",
       "</table>\n",
       "</div>"
      ],
      "text/plain": [
       "   prediction  real_labels                                               text\n",
       "0           4            4  what a rubbish thinking life is your aj ke tim...\n",
       "1           1            1  is it breast feeding baby if it is so nothing ...\n",
       "2           1            1  change ur dr 9 kg ur baby s wt is good don t w...\n",
       "3           0            0  try the homemade no sugar cooky cereal mix and...\n",
       "4           1            7  mahak singh make aata dried fruit laddus bake ..."
      ]
     },
     "execution_count": 147,
     "metadata": {},
     "output_type": "execute_result"
    }
   ],
   "source": [
    "prediction_dataframe[:5]"
   ]
  },
  {
   "cell_type": "code",
   "execution_count": 148,
   "metadata": {
    "scrolled": true
   },
   "outputs": [],
   "source": [
    "unmatched_labels = prediction_dataframe.where((prediction_dataframe['prediction'] != prediction_dataframe['real_labels']))"
   ]
  },
  {
   "cell_type": "code",
   "execution_count": 149,
   "metadata": {},
   "outputs": [],
   "source": [
    "unmatched_labels = unmatched_labels[unmatched_labels['prediction'].notnull()]"
   ]
  },
  {
   "cell_type": "code",
   "execution_count": 150,
   "metadata": {},
   "outputs": [],
   "source": [
    "unmatched_labels.reset_index(drop=True,inplace=True)"
   ]
  },
  {
   "cell_type": "code",
   "execution_count": 151,
   "metadata": {
    "scrolled": true
   },
   "outputs": [],
   "source": [
    "unmatched_labels['prediction'] = unmatched_labels['prediction'].apply(lambda x:int(x))\n",
    "unmatched_labels['real_labels'] = unmatched_labels['real_labels'].apply(lambda x:int(x))\n",
    "unmatched_labels['prediction_text'] = label_encoder.inverse_transform(unmatched_labels['prediction'])\n",
    "unmatched_labels['real_label_text'] = label_encoder.inverse_transform(unmatched_labels['real_labels'])"
   ]
  },
  {
   "cell_type": "code",
   "execution_count": 152,
   "metadata": {
    "scrolled": true
   },
   "outputs": [
    {
     "data": {
      "text/html": [
       "<div>\n",
       "<style scoped>\n",
       "    .dataframe tbody tr th:only-of-type {\n",
       "        vertical-align: middle;\n",
       "    }\n",
       "\n",
       "    .dataframe tbody tr th {\n",
       "        vertical-align: top;\n",
       "    }\n",
       "\n",
       "    .dataframe thead th {\n",
       "        text-align: right;\n",
       "    }\n",
       "</style>\n",
       "<table border=\"1\" class=\"dataframe\">\n",
       "  <thead>\n",
       "    <tr style=\"text-align: right;\">\n",
       "      <th></th>\n",
       "      <th>prediction</th>\n",
       "      <th>real_labels</th>\n",
       "      <th>text</th>\n",
       "      <th>prediction_text</th>\n",
       "      <th>real_label_text</th>\n",
       "    </tr>\n",
       "  </thead>\n",
       "  <tbody>\n",
       "    <tr>\n",
       "      <td>0</td>\n",
       "      <td>1</td>\n",
       "      <td>7</td>\n",
       "      <td>mahak singh make aata dried fruit laddus bake ...</td>\n",
       "      <td>infant</td>\n",
       "      <td>toddler</td>\n",
       "    </tr>\n",
       "    <tr>\n",
       "      <td>1</td>\n",
       "      <td>1</td>\n",
       "      <td>4</td>\n",
       "      <td>yr aj ke jamane m to 1 hi baby bhot hai besa b...</td>\n",
       "      <td>infant</td>\n",
       "      <td>others</td>\n",
       "    </tr>\n",
       "    <tr>\n",
       "      <td>2</td>\n",
       "      <td>1</td>\n",
       "      <td>7</td>\n",
       "      <td>due the acid reflux kid cont degest the food</td>\n",
       "      <td>infant</td>\n",
       "      <td>toddler</td>\n",
       "    </tr>\n",
       "    <tr>\n",
       "      <td>3</td>\n",
       "      <td>1</td>\n",
       "      <td>2</td>\n",
       "      <td>you can try mystical hair oil and mask by pure...</td>\n",
       "      <td>infant</td>\n",
       "      <td>mother</td>\n",
       "    </tr>\n",
       "    <tr>\n",
       "      <td>4</td>\n",
       "      <td>1</td>\n",
       "      <td>2</td>\n",
       "      <td>hi mommy hav been posting and v happy to get p...</td>\n",
       "      <td>infant</td>\n",
       "      <td>mother</td>\n",
       "    </tr>\n",
       "    <tr>\n",
       "      <td>5</td>\n",
       "      <td>1</td>\n",
       "      <td>7</td>\n",
       "      <td>bate krke ya mind divert krke khilao ajkl khil...</td>\n",
       "      <td>infant</td>\n",
       "      <td>toddler</td>\n",
       "    </tr>\n",
       "    <tr>\n",
       "      <td>6</td>\n",
       "      <td>1</td>\n",
       "      <td>7</td>\n",
       "      <td>stuff veggie in paratha or chapati make a doug...</td>\n",
       "      <td>infant</td>\n",
       "      <td>toddler</td>\n",
       "    </tr>\n",
       "    <tr>\n",
       "      <td>7</td>\n",
       "      <td>0</td>\n",
       "      <td>1</td>\n",
       "      <td>anyone tried suvarnaprashan ayurvedic immuniza...</td>\n",
       "      <td>big_kid</td>\n",
       "      <td>infant</td>\n",
       "    </tr>\n",
       "    <tr>\n",
       "      <td>8</td>\n",
       "      <td>1</td>\n",
       "      <td>2</td>\n",
       "      <td>aur baby frequently pita hai to din bhar baith...</td>\n",
       "      <td>infant</td>\n",
       "      <td>mother</td>\n",
       "    </tr>\n",
       "    <tr>\n",
       "      <td>9</td>\n",
       "      <td>1</td>\n",
       "      <td>2</td>\n",
       "      <td>guy you all are awesome thanks for wonderful s...</td>\n",
       "      <td>infant</td>\n",
       "      <td>mother</td>\n",
       "    </tr>\n",
       "  </tbody>\n",
       "</table>\n",
       "</div>"
      ],
      "text/plain": [
       "   prediction  real_labels                                               text  \\\n",
       "0           1            7  mahak singh make aata dried fruit laddus bake ...   \n",
       "1           1            4  yr aj ke jamane m to 1 hi baby bhot hai besa b...   \n",
       "2           1            7       due the acid reflux kid cont degest the food   \n",
       "3           1            2  you can try mystical hair oil and mask by pure...   \n",
       "4           1            2  hi mommy hav been posting and v happy to get p...   \n",
       "5           1            7  bate krke ya mind divert krke khilao ajkl khil...   \n",
       "6           1            7  stuff veggie in paratha or chapati make a doug...   \n",
       "7           0            1  anyone tried suvarnaprashan ayurvedic immuniza...   \n",
       "8           1            2  aur baby frequently pita hai to din bhar baith...   \n",
       "9           1            2  guy you all are awesome thanks for wonderful s...   \n",
       "\n",
       "  prediction_text real_label_text  \n",
       "0          infant         toddler  \n",
       "1          infant          others  \n",
       "2          infant         toddler  \n",
       "3          infant          mother  \n",
       "4          infant          mother  \n",
       "5          infant         toddler  \n",
       "6          infant         toddler  \n",
       "7         big_kid          infant  \n",
       "8          infant          mother  \n",
       "9          infant          mother  "
      ]
     },
     "execution_count": 152,
     "metadata": {},
     "output_type": "execute_result"
    }
   ],
   "source": [
    "unmatched_labels[:10]"
   ]
  },
  {
   "cell_type": "code",
   "execution_count": 128,
   "metadata": {},
   "outputs": [
    {
     "data": {
      "text/plain": [
       "array(['big_kid', 'infant', 'mother', 'none', 'others', 'pre_pregnancy',\n",
       "       'pregnancy', 'toddler'], dtype=object)"
      ]
     },
     "execution_count": 128,
     "metadata": {},
     "output_type": "execute_result"
    }
   ],
   "source": [
    "label_encoder.classes_"
   ]
  },
  {
   "cell_type": "code",
   "execution_count": 154,
   "metadata": {},
   "outputs": [],
   "source": [
    "unmatched_labels.to_csv('unmatched_labels.csv',index=False)"
   ]
  },
  {
   "cell_type": "code",
   "execution_count": 55,
   "metadata": {},
   "outputs": [
    {
     "data": {
      "text/plain": [
       "'C:\\\\Users\\\\Asim\\\\Desktop\\\\Tay Keith\\\\models\\\\sub_category\\\\model_building'"
      ]
     },
     "execution_count": 55,
     "metadata": {},
     "output_type": "execute_result"
    }
   ],
   "source": [
    "pwd"
   ]
  },
  {
   "cell_type": "code",
   "execution_count": 57,
   "metadata": {},
   "outputs": [],
   "source": [
    "df = pd.read_csv('refined_crawled_11_groups_data.csv')"
   ]
  },
  {
   "cell_type": "code",
   "execution_count": 58,
   "metadata": {},
   "outputs": [],
   "source": [
    "df_1 = pd.read_csv('sub_category_predictions_on_research_file.csv')"
   ]
  },
  {
   "cell_type": "code",
   "execution_count": null,
   "metadata": {},
   "outputs": [],
   "source": [
    "df['rawtext'] = df['rawtext'].aply(lambda x:)"
   ]
  },
  {
   "cell_type": "code",
   "execution_count": null,
   "metadata": {},
   "outputs": [],
   "source": []
  },
  {
   "cell_type": "code",
   "execution_count": null,
   "metadata": {},
   "outputs": [],
   "source": []
  },
  {
   "cell_type": "code",
   "execution_count": 18,
   "metadata": {},
   "outputs": [],
   "source": [
    "df = pd.read_csv('refined_crawled_11_groups_data_new.csv',encoding='latin-1')"
   ]
  },
  {
   "cell_type": "code",
   "execution_count": 20,
   "metadata": {
    "scrolled": true
   },
   "outputs": [
    {
     "data": {
      "text/html": [
       "<div>\n",
       "<style scoped>\n",
       "    .dataframe tbody tr th:only-of-type {\n",
       "        vertical-align: middle;\n",
       "    }\n",
       "\n",
       "    .dataframe tbody tr th {\n",
       "        vertical-align: top;\n",
       "    }\n",
       "\n",
       "    .dataframe thead th {\n",
       "        text-align: right;\n",
       "    }\n",
       "</style>\n",
       "<table border=\"1\" class=\"dataframe\">\n",
       "  <thead>\n",
       "    <tr style=\"text-align: right;\">\n",
       "      <th></th>\n",
       "      <th>groupname</th>\n",
       "      <th>rawtext</th>\n",
       "    </tr>\n",
       "    <tr>\n",
       "      <th>Sub_Category</th>\n",
       "      <th></th>\n",
       "      <th></th>\n",
       "    </tr>\n",
       "  </thead>\n",
       "  <tbody>\n",
       "    <tr>\n",
       "      <td>bre\\</td>\n",
       "      <td>1</td>\n",
       "      <td>1</td>\n",
       "    </tr>\n",
       "    <tr>\n",
       "      <td>breastfeeding</td>\n",
       "      <td>431</td>\n",
       "      <td>431</td>\n",
       "    </tr>\n",
       "    <tr>\n",
       "      <td>cold_and_cough</td>\n",
       "      <td>73</td>\n",
       "      <td>73</td>\n",
       "    </tr>\n",
       "    <tr>\n",
       "      <td>dha</td>\n",
       "      <td>4</td>\n",
       "      <td>4</td>\n",
       "    </tr>\n",
       "    <tr>\n",
       "      <td>ears)</td>\n",
       "      <td>8</td>\n",
       "      <td>8</td>\n",
       "    </tr>\n",
       "    <tr>\n",
       "      <td>gear</td>\n",
       "      <td>2</td>\n",
       "      <td>2</td>\n",
       "    </tr>\n",
       "    <tr>\n",
       "      <td>gears</td>\n",
       "      <td>7</td>\n",
       "      <td>7</td>\n",
       "    </tr>\n",
       "    <tr>\n",
       "      <td>home_appliances</td>\n",
       "      <td>1</td>\n",
       "      <td>1</td>\n",
       "    </tr>\n",
       "    <tr>\n",
       "      <td>hygeine</td>\n",
       "      <td>13</td>\n",
       "      <td>13</td>\n",
       "    </tr>\n",
       "    <tr>\n",
       "      <td>ids</td>\n",
       "      <td>3</td>\n",
       "      <td>3</td>\n",
       "    </tr>\n",
       "    <tr>\n",
       "      <td>immunity</td>\n",
       "      <td>5</td>\n",
       "      <td>5</td>\n",
       "    </tr>\n",
       "    <tr>\n",
       "      <td>learning</td>\n",
       "      <td>59</td>\n",
       "      <td>59</td>\n",
       "    </tr>\n",
       "    <tr>\n",
       "      <td>mothers</td>\n",
       "      <td>1</td>\n",
       "      <td>1</td>\n",
       "    </tr>\n",
       "    <tr>\n",
       "      <td>nutrition</td>\n",
       "      <td>306</td>\n",
       "      <td>306</td>\n",
       "    </tr>\n",
       "    <tr>\n",
       "      <td>oral_care</td>\n",
       "      <td>9</td>\n",
       "      <td>9</td>\n",
       "    </tr>\n",
       "    <tr>\n",
       "      <td>other</td>\n",
       "      <td>1</td>\n",
       "      <td>0</td>\n",
       "    </tr>\n",
       "    <tr>\n",
       "      <td>others</td>\n",
       "      <td>187</td>\n",
       "      <td>187</td>\n",
       "    </tr>\n",
       "    <tr>\n",
       "      <td>pregnancy</td>\n",
       "      <td>44</td>\n",
       "      <td>44</td>\n",
       "    </tr>\n",
       "    <tr>\n",
       "      <td>recipes</td>\n",
       "      <td>134</td>\n",
       "      <td>134</td>\n",
       "    </tr>\n",
       "    <tr>\n",
       "      <td>regnancy</td>\n",
       "      <td>1</td>\n",
       "      <td>1</td>\n",
       "    </tr>\n",
       "    <tr>\n",
       "      <td>school</td>\n",
       "      <td>1</td>\n",
       "      <td>1</td>\n",
       "    </tr>\n",
       "    <tr>\n",
       "      <td>skin_care</td>\n",
       "      <td>106</td>\n",
       "      <td>106</td>\n",
       "    </tr>\n",
       "    <tr>\n",
       "      <td>sleeping</td>\n",
       "      <td>3</td>\n",
       "      <td>3</td>\n",
       "    </tr>\n",
       "    <tr>\n",
       "      <td>ums...</td>\n",
       "      <td>2</td>\n",
       "      <td>2</td>\n",
       "    </tr>\n",
       "    <tr>\n",
       "      <td>women_health</td>\n",
       "      <td>161</td>\n",
       "      <td>161</td>\n",
       "    </tr>\n",
       "    <tr>\n",
       "      <td>Â</td>\n",
       "      <td>5</td>\n",
       "      <td>5</td>\n",
       "    </tr>\n",
       "    <tr>\n",
       "      <td>Â¨Ã</td>\n",
       "      <td>2</td>\n",
       "      <td>2</td>\n",
       "    </tr>\n",
       "    <tr>\n",
       "      <td>Ã Â¤Â¾</td>\n",
       "      <td>9</td>\n",
       "      <td>9</td>\n",
       "    </tr>\n",
       "    <tr>\n",
       "      <td>Ã Â¥Â</td>\n",
       "      <td>21</td>\n",
       "      <td>21</td>\n",
       "    </tr>\n",
       "  </tbody>\n",
       "</table>\n",
       "</div>"
      ],
      "text/plain": [
       "                 groupname  rawtext\n",
       "Sub_Category                       \n",
       "bre\\                     1        1\n",
       "breastfeeding          431      431\n",
       "cold_and_cough          73       73\n",
       "dha                      4        4\n",
       "ears)                    8        8\n",
       "gear                     2        2\n",
       "gears                    7        7\n",
       "home_appliances          1        1\n",
       "hygeine                 13       13\n",
       "ids                      3        3\n",
       "immunity                 5        5\n",
       "learning                59       59\n",
       "mothers                  1        1\n",
       "nutrition              306      306\n",
       "oral_care                9        9\n",
       "other                    1        0\n",
       "others                 187      187\n",
       "pregnancy               44       44\n",
       "recipes                134      134\n",
       "regnancy                 1        1\n",
       "school                   1        1\n",
       "skin_care              106      106\n",
       "sleeping                 3        3\n",
       "ums...                   2        2\n",
       "women_health           161      161\n",
       "Â                       5        5\n",
       "Â¨Ã                      2        2\n",
       "Ã Â¤Â¾                   9        9\n",
       "Ã Â¥Â                  21       21"
      ]
     },
     "execution_count": 20,
     "metadata": {},
     "output_type": "execute_result"
    }
   ],
   "source": [
    "df.groupby('Sub_Category').count()"
   ]
  },
  {
   "cell_type": "code",
   "execution_count": 403,
   "metadata": {},
   "outputs": [
    {
     "data": {
      "text/plain": [
       "'C:\\\\Users\\\\Asim\\\\Desktop\\\\Tay Keith\\\\models\\\\sub_category\\\\model_building\\\\training_data_gather'"
      ]
     },
     "execution_count": 403,
     "metadata": {},
     "output_type": "execute_result"
    }
   ],
   "source": [
    "pwd"
   ]
  },
  {
   "cell_type": "code",
   "execution_count": 36,
   "metadata": {},
   "outputs": [],
   "source": [
    "learning = merged_file[merged_file['sub_category']=='Learning']"
   ]
  },
  {
   "cell_type": "code",
   "execution_count": null,
   "metadata": {},
   "outputs": [],
   "source": [
    "support suffering from itching vagina outer suggest"
   ]
  },
  {
   "cell_type": "code",
   "execution_count": 50,
   "metadata": {
    "scrolled": true
   },
   "outputs": [
    {
     "data": {
      "text/html": [
       "<div>\n",
       "<style scoped>\n",
       "    .dataframe tbody tr th:only-of-type {\n",
       "        vertical-align: middle;\n",
       "    }\n",
       "\n",
       "    .dataframe tbody tr th {\n",
       "        vertical-align: top;\n",
       "    }\n",
       "\n",
       "    .dataframe thead th {\n",
       "        text-align: right;\n",
       "    }\n",
       "</style>\n",
       "<table border=\"1\" class=\"dataframe\">\n",
       "  <thead>\n",
       "    <tr style=\"text-align: right;\">\n",
       "      <th></th>\n",
       "      <th>sub_category</th>\n",
       "      <th>text</th>\n",
       "    </tr>\n",
       "  </thead>\n",
       "  <tbody>\n",
       "    <tr>\n",
       "      <td>17671</td>\n",
       "      <td>Learning</td>\n",
       "      <td>same was with my daughter,she had small bumps ...</td>\n",
       "    </tr>\n",
       "    <tr>\n",
       "      <td>17972</td>\n",
       "      <td>Learning</td>\n",
       "      <td>true my baby want to play dustbin, charger rem...</td>\n",
       "    </tr>\n",
       "    <tr>\n",
       "      <td>18081</td>\n",
       "      <td>Learning</td>\n",
       "      <td>hello moms this is my first post meri beti ka ...</td>\n",
       "    </tr>\n",
       "    <tr>\n",
       "      <td>18241</td>\n",
       "      <td>Learning</td>\n",
       "      <td>if u hav top then get contrast color satin clo...</td>\n",
       "    </tr>\n",
       "    <tr>\n",
       "      <td>18262</td>\n",
       "      <td>Learning</td>\n",
       "      <td>reema sameer the thirsty crow story in english...</td>\n",
       "    </tr>\n",
       "    <tr>\n",
       "      <td>18291</td>\n",
       "      <td>Learning</td>\n",
       "      <td>mry bety ko engaged krna bht mushkil h , bht t...</td>\n",
       "    </tr>\n",
       "    <tr>\n",
       "      <td>18409</td>\n",
       "      <td>Learning</td>\n",
       "      <td>even my son is 2.5 he still enjoys all these.....</td>\n",
       "    </tr>\n",
       "    <tr>\n",
       "      <td>18417</td>\n",
       "      <td>Learning</td>\n",
       "      <td>hi mommies. yesterday night i observed pinworm...</td>\n",
       "    </tr>\n",
       "    <tr>\n",
       "      <td>18635</td>\n",
       "      <td>Learning</td>\n",
       "      <td>mere baby ka ek v toy shi salamt nhi milega ap...</td>\n",
       "    </tr>\n",
       "    <tr>\n",
       "      <td>18781</td>\n",
       "      <td>Learning</td>\n",
       "      <td>main thing kitchen se bartan or pani to missin...</td>\n",
       "    </tr>\n",
       "    <tr>\n",
       "      <td>18991</td>\n",
       "      <td>Learning</td>\n",
       "      <td>halo moms.... please help me.... har jagah lit...</td>\n",
       "    </tr>\n",
       "    <tr>\n",
       "      <td>19271</td>\n",
       "      <td>Learning</td>\n",
       "      <td>my daughters play with our kitchen set 😘😘😘😘\\r\\...</td>\n",
       "    </tr>\n",
       "    <tr>\n",
       "      <td>19292</td>\n",
       "      <td>Learning</td>\n",
       "      <td>my daughter likes to play with clothes and kit...</td>\n",
       "    </tr>\n",
       "    <tr>\n",
       "      <td>19511</td>\n",
       "      <td>Learning</td>\n",
       "      <td>my 2 yrs daughter always had a itching problem...</td>\n",
       "    </tr>\n",
       "    <tr>\n",
       "      <td>19694</td>\n",
       "      <td>Learning</td>\n",
       "      <td>#luvlaptwin\\n\\n26 september 2014\\nmera baby jb...</td>\n",
       "    </tr>\n",
       "    <tr>\n",
       "      <td>20039</td>\n",
       "      <td>Learning</td>\n",
       "      <td>must read books for your child before he/she t...</td>\n",
       "    </tr>\n",
       "  </tbody>\n",
       "</table>\n",
       "</div>"
      ],
      "text/plain": [
       "      sub_category                                               text\n",
       "17671     Learning  same was with my daughter,she had small bumps ...\n",
       "17972     Learning  true my baby want to play dustbin, charger rem...\n",
       "18081     Learning  hello moms this is my first post meri beti ka ...\n",
       "18241     Learning  if u hav top then get contrast color satin clo...\n",
       "18262     Learning  reema sameer the thirsty crow story in english...\n",
       "18291     Learning  mry bety ko engaged krna bht mushkil h , bht t...\n",
       "18409     Learning  even my son is 2.5 he still enjoys all these.....\n",
       "18417     Learning  hi mommies. yesterday night i observed pinworm...\n",
       "18635     Learning  mere baby ka ek v toy shi salamt nhi milega ap...\n",
       "18781     Learning  main thing kitchen se bartan or pani to missin...\n",
       "18991     Learning  halo moms.... please help me.... har jagah lit...\n",
       "19271     Learning  my daughters play with our kitchen set 😘😘😘😘\\r\\...\n",
       "19292     Learning  my daughter likes to play with clothes and kit...\n",
       "19511     Learning  my 2 yrs daughter always had a itching problem...\n",
       "19694     Learning  #luvlaptwin\\n\\n26 september 2014\\nmera baby jb...\n",
       "20039     Learning  must read books for your child before he/she t..."
      ]
     },
     "execution_count": 50,
     "metadata": {},
     "output_type": "execute_result"
    }
   ],
   "source": [
    "learning[learning['text'].str.contains(\"itch\")]"
   ]
  },
  {
   "cell_type": "code",
   "execution_count": null,
   "metadata": {},
   "outputs": [],
   "source": []
  },
  {
   "cell_type": "code",
   "execution_count": null,
   "metadata": {},
   "outputs": [],
   "source": []
  }
 ],
 "metadata": {
  "kernelspec": {
   "display_name": "Python 3",
   "language": "python",
   "name": "python3"
  },
  "language_info": {
   "codemirror_mode": {
    "name": "ipython",
    "version": 3
   },
   "file_extension": ".py",
   "mimetype": "text/x-python",
   "name": "python",
   "nbconvert_exporter": "python",
   "pygments_lexer": "ipython3",
   "version": "3.8.3"
  }
 },
 "nbformat": 4,
 "nbformat_minor": 2
}
